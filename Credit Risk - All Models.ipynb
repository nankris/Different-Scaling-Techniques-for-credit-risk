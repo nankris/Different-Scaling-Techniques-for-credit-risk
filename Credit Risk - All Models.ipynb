{
 "cells": [
  {
   "cell_type": "code",
   "execution_count": 1,
   "metadata": {},
   "outputs": [],
   "source": [
    "import os\n",
    "os.chdir(\"C:\\\\Users\\\\Sai\\\\Downloads\\\\Udemy_Python\\\\datacode\")"
   ]
  },
  {
   "cell_type": "code",
   "execution_count": 2,
   "metadata": {},
   "outputs": [],
   "source": [
    "import pandas as pd\n",
    "creditrisk=pd.read_csv(\"cs-training.csv\")"
   ]
  },
  {
   "cell_type": "code",
   "execution_count": 67,
   "metadata": {},
   "outputs": [],
   "source": [
    "import numpy as np"
   ]
  },
  {
   "cell_type": "code",
   "execution_count": 3,
   "metadata": {},
   "outputs": [
    {
     "data": {
      "text/html": [
       "<div>\n",
       "<style scoped>\n",
       "    .dataframe tbody tr th:only-of-type {\n",
       "        vertical-align: middle;\n",
       "    }\n",
       "\n",
       "    .dataframe tbody tr th {\n",
       "        vertical-align: top;\n",
       "    }\n",
       "\n",
       "    .dataframe thead th {\n",
       "        text-align: right;\n",
       "    }\n",
       "</style>\n",
       "<table border=\"1\" class=\"dataframe\">\n",
       "  <thead>\n",
       "    <tr style=\"text-align: right;\">\n",
       "      <th></th>\n",
       "      <th>ID</th>\n",
       "      <th>SeriousDlqin2yrs</th>\n",
       "      <th>RevolvingUtilizationOfUnsecuredLines</th>\n",
       "      <th>age</th>\n",
       "      <th>NumberOfTime30-59DaysPastDueNotWorse</th>\n",
       "      <th>DebtRatio</th>\n",
       "      <th>MonthlyIncome</th>\n",
       "      <th>NumberOfOpenCreditLinesAndLoans</th>\n",
       "      <th>NumberOfTimes90DaysLate</th>\n",
       "      <th>NumberRealEstateLoansOrLines</th>\n",
       "      <th>NumberOfTime60-89DaysPastDueNotWorse</th>\n",
       "      <th>NumberOfDependents</th>\n",
       "    </tr>\n",
       "  </thead>\n",
       "  <tbody>\n",
       "    <tr>\n",
       "      <th>0</th>\n",
       "      <td>1</td>\n",
       "      <td>1</td>\n",
       "      <td>0.766127</td>\n",
       "      <td>45</td>\n",
       "      <td>2</td>\n",
       "      <td>0.802982</td>\n",
       "      <td>9120.0</td>\n",
       "      <td>13</td>\n",
       "      <td>0</td>\n",
       "      <td>6</td>\n",
       "      <td>0</td>\n",
       "      <td>2.0</td>\n",
       "    </tr>\n",
       "    <tr>\n",
       "      <th>1</th>\n",
       "      <td>2</td>\n",
       "      <td>0</td>\n",
       "      <td>0.957151</td>\n",
       "      <td>40</td>\n",
       "      <td>0</td>\n",
       "      <td>0.121876</td>\n",
       "      <td>2600.0</td>\n",
       "      <td>4</td>\n",
       "      <td>0</td>\n",
       "      <td>0</td>\n",
       "      <td>0</td>\n",
       "      <td>1.0</td>\n",
       "    </tr>\n",
       "    <tr>\n",
       "      <th>2</th>\n",
       "      <td>3</td>\n",
       "      <td>0</td>\n",
       "      <td>0.658180</td>\n",
       "      <td>38</td>\n",
       "      <td>1</td>\n",
       "      <td>0.085113</td>\n",
       "      <td>3042.0</td>\n",
       "      <td>2</td>\n",
       "      <td>1</td>\n",
       "      <td>0</td>\n",
       "      <td>0</td>\n",
       "      <td>0.0</td>\n",
       "    </tr>\n",
       "    <tr>\n",
       "      <th>3</th>\n",
       "      <td>4</td>\n",
       "      <td>0</td>\n",
       "      <td>0.233810</td>\n",
       "      <td>30</td>\n",
       "      <td>0</td>\n",
       "      <td>0.036050</td>\n",
       "      <td>3300.0</td>\n",
       "      <td>5</td>\n",
       "      <td>0</td>\n",
       "      <td>0</td>\n",
       "      <td>0</td>\n",
       "      <td>0.0</td>\n",
       "    </tr>\n",
       "    <tr>\n",
       "      <th>4</th>\n",
       "      <td>5</td>\n",
       "      <td>0</td>\n",
       "      <td>0.907239</td>\n",
       "      <td>49</td>\n",
       "      <td>1</td>\n",
       "      <td>0.024926</td>\n",
       "      <td>63588.0</td>\n",
       "      <td>7</td>\n",
       "      <td>0</td>\n",
       "      <td>1</td>\n",
       "      <td>0</td>\n",
       "      <td>0.0</td>\n",
       "    </tr>\n",
       "  </tbody>\n",
       "</table>\n",
       "</div>"
      ],
      "text/plain": [
       "   ID  SeriousDlqin2yrs  RevolvingUtilizationOfUnsecuredLines  age  \\\n",
       "0   1                 1                              0.766127   45   \n",
       "1   2                 0                              0.957151   40   \n",
       "2   3                 0                              0.658180   38   \n",
       "3   4                 0                              0.233810   30   \n",
       "4   5                 0                              0.907239   49   \n",
       "\n",
       "   NumberOfTime30-59DaysPastDueNotWorse  DebtRatio  MonthlyIncome  \\\n",
       "0                                     2   0.802982         9120.0   \n",
       "1                                     0   0.121876         2600.0   \n",
       "2                                     1   0.085113         3042.0   \n",
       "3                                     0   0.036050         3300.0   \n",
       "4                                     1   0.024926        63588.0   \n",
       "\n",
       "   NumberOfOpenCreditLinesAndLoans  NumberOfTimes90DaysLate  \\\n",
       "0                               13                        0   \n",
       "1                                4                        0   \n",
       "2                                2                        1   \n",
       "3                                5                        0   \n",
       "4                                7                        0   \n",
       "\n",
       "   NumberRealEstateLoansOrLines  NumberOfTime60-89DaysPastDueNotWorse  \\\n",
       "0                             6                                     0   \n",
       "1                             0                                     0   \n",
       "2                             0                                     0   \n",
       "3                             0                                     0   \n",
       "4                             1                                     0   \n",
       "\n",
       "   NumberOfDependents  \n",
       "0                 2.0  \n",
       "1                 1.0  \n",
       "2                 0.0  \n",
       "3                 0.0  \n",
       "4                 0.0  "
      ]
     },
     "execution_count": 3,
     "metadata": {},
     "output_type": "execute_result"
    }
   ],
   "source": [
    "creditrisk.head()"
   ]
  },
  {
   "cell_type": "code",
   "execution_count": 4,
   "metadata": {},
   "outputs": [
    {
     "data": {
      "text/plain": [
       "Index(['ID', 'SeriousDlqin2yrs', 'RevolvingUtilizationOfUnsecuredLines', 'age',\n",
       "       'NumberOfTime30-59DaysPastDueNotWorse', 'DebtRatio', 'MonthlyIncome',\n",
       "       'NumberOfOpenCreditLinesAndLoans', 'NumberOfTimes90DaysLate',\n",
       "       'NumberRealEstateLoansOrLines', 'NumberOfTime60-89DaysPastDueNotWorse',\n",
       "       'NumberOfDependents'],\n",
       "      dtype='object')"
      ]
     },
     "execution_count": 4,
     "metadata": {},
     "output_type": "execute_result"
    }
   ],
   "source": [
    "creditrisk.columns"
   ]
  },
  {
   "cell_type": "code",
   "execution_count": 5,
   "metadata": {},
   "outputs": [
    {
     "data": {
      "text/plain": [
       "array([1, 0], dtype=int64)"
      ]
     },
     "execution_count": 5,
     "metadata": {},
     "output_type": "execute_result"
    }
   ],
   "source": [
    "#creditrisk.info() \n",
    "creditrisk['SeriousDlqin2yrs'].unique()\n",
    "#classificatoin problem\n",
    "#SeriousDlqin2yrs is dependent variables"
   ]
  },
  {
   "cell_type": "code",
   "execution_count": 6,
   "metadata": {},
   "outputs": [
    {
     "data": {
      "text/plain": [
       "146076"
      ]
     },
     "execution_count": 6,
     "metadata": {},
     "output_type": "execute_result"
    }
   ],
   "source": [
    "creditrisk.isnull().sum()\n",
    "#modifiedDataset=dataset.fillna(\" \")\n",
    "#dataset.fillna(dataset.mean())\n",
    "#modifiedDataset = dataset.dropna()\n",
    "creditrisk.isnull().values\n",
    "#creditrisk.isnull().any(axis=1).sum()\n",
    "MI=creditrisk[creditrisk['NumberOfDependents'].isnull()]\n",
    "modified=creditrisk['NumberOfDependents'].fillna(999)\n",
    "creditrisk['NumberOfDependents']=modified\n",
    "creditrisk.isnull().sum()\n",
    "creditrisk[creditrisk['NumberOfDependents']==999]['MonthlyIncome'].isnull().sum()\n",
    "#creditrisk.columns\n",
    "creditrisk[creditrisk['NumberOfDependents']==999].index\n",
    "creditrisk.drop(creditrisk[creditrisk['NumberOfDependents']==999].index, inplace=True)\n",
    "creditrisk['NumberOfDependents'].size\n",
    "#creditrisk['MonthlyIncome'].isnull().sum()\n",
    "#creditrisk.drop('NumberOfDependents',axis=1)"
   ]
  },
  {
   "cell_type": "code",
   "execution_count": 7,
   "metadata": {},
   "outputs": [],
   "source": [
    "#creditrisk.info()\n",
    "creditrisk.isnull().sum()\n",
    "creditrisk.dropna(inplace=True) "
   ]
  },
  {
   "cell_type": "code",
   "execution_count": 8,
   "metadata": {},
   "outputs": [
    {
     "data": {
      "text/plain": [
       "(120269, 12)"
      ]
     },
     "execution_count": 8,
     "metadata": {},
     "output_type": "execute_result"
    }
   ],
   "source": [
    "creditrisk.isnull().sum()\n",
    "creditrisk.shape"
   ]
  },
  {
   "cell_type": "code",
   "execution_count": 9,
   "metadata": {},
   "outputs": [
    {
     "data": {
      "text/plain": [
       "count    1.202690e+05\n",
       "mean     6.670221e+03\n",
       "std      1.438467e+04\n",
       "min      0.000000e+00\n",
       "25%      3.400000e+03\n",
       "50%      5.400000e+03\n",
       "75%      8.249000e+03\n",
       "max      3.008750e+06\n",
       "Name: MonthlyIncome, dtype: float64"
      ]
     },
     "execution_count": 9,
     "metadata": {},
     "output_type": "execute_result"
    }
   ],
   "source": [
    "creditrisk['MonthlyIncome'].mean()\n",
    "#creditrisk['MonthlyIncome'].isnull()\n",
    "#plt.hist(creditrisk['MonthlyIncome'])\n",
    "creditrisk['MonthlyIncome'].describe()"
   ]
  },
  {
   "cell_type": "code",
   "execution_count": 10,
   "metadata": {},
   "outputs": [
    {
     "data": {
      "text/plain": [
       "array([ 2.,  1.,  0.,  3.,  4.,  5.,  6.,  8.,  7., 20., 10.,  9., 13.])"
      ]
     },
     "execution_count": 10,
     "metadata": {},
     "output_type": "execute_result"
    }
   ],
   "source": [
    "creditrisk['NumberOfDependents'].unique()"
   ]
  },
  {
   "cell_type": "code",
   "execution_count": 11,
   "metadata": {},
   "outputs": [
    {
     "data": {
      "text/plain": [
       "0.0     65456\n",
       "1.0     24379\n",
       "2.0     18110\n",
       "3.0      8745\n",
       "4.0      2658\n",
       "5.0       689\n",
       "6.0       150\n",
       "7.0        49\n",
       "8.0        22\n",
       "10.0        5\n",
       "9.0         4\n",
       "13.0        1\n",
       "20.0        1\n",
       "Name: NumberOfDependents, dtype: int64"
      ]
     },
     "execution_count": 11,
     "metadata": {},
     "output_type": "execute_result"
    }
   ],
   "source": [
    "creditrisk['NumberOfDependents'].describe\n",
    "import matplotlib.pyplot as plt\n",
    "#plt.hist(creditrisk['NumberOfDependents'])\n",
    "#plt.bar(creditrisk['NumberOfDependents'])\n",
    "creditrisk['NumberOfDependents'].value_counts()\n",
    "#creditrisk['MonthlyIncome'].unique()"
   ]
  },
  {
   "cell_type": "code",
   "execution_count": 12,
   "metadata": {},
   "outputs": [
    {
     "data": {
      "image/png": "[encoded data removed]",
      "text/plain": [
       "<Figure size 432x288 with 1 Axes>"
      ]
     },
     "metadata": {
      "needs_background": "light"
     },
     "output_type": "display_data"
    }
   ],
   "source": [
    "import seaborn as sns\n",
    "sns.countplot(x='NumberOfDependents',data=creditrisk, palette='hls')\n",
    "plt.show()"
   ]
  },
  {
   "cell_type": "code",
   "execution_count": 13,
   "metadata": {},
   "outputs": [
    {
     "data": {
      "text/html": [
       "<div>\n",
       "<style scoped>\n",
       "    .dataframe tbody tr th:only-of-type {\n",
       "        vertical-align: middle;\n",
       "    }\n",
       "\n",
       "    .dataframe tbody tr th {\n",
       "        vertical-align: top;\n",
       "    }\n",
       "\n",
       "    .dataframe thead th {\n",
       "        text-align: right;\n",
       "    }\n",
       "</style>\n",
       "<table border=\"1\" class=\"dataframe\">\n",
       "  <thead>\n",
       "    <tr style=\"text-align: right;\">\n",
       "      <th></th>\n",
       "      <th>ID</th>\n",
       "      <th>SeriousDlqin2yrs</th>\n",
       "      <th>RevolvingUtilizationOfUnsecuredLines</th>\n",
       "      <th>age</th>\n",
       "      <th>NumberOfTime30-59DaysPastDueNotWorse</th>\n",
       "      <th>DebtRatio</th>\n",
       "      <th>MonthlyIncome</th>\n",
       "      <th>NumberOfOpenCreditLinesAndLoans</th>\n",
       "      <th>NumberOfTimes90DaysLate</th>\n",
       "      <th>NumberRealEstateLoansOrLines</th>\n",
       "      <th>NumberOfTime60-89DaysPastDueNotWorse</th>\n",
       "    </tr>\n",
       "    <tr>\n",
       "      <th>NumberOfDependents</th>\n",
       "      <th></th>\n",
       "      <th></th>\n",
       "      <th></th>\n",
       "      <th></th>\n",
       "      <th></th>\n",
       "      <th></th>\n",
       "      <th></th>\n",
       "      <th></th>\n",
       "      <th></th>\n",
       "      <th></th>\n",
       "      <th></th>\n",
       "    </tr>\n",
       "  </thead>\n",
       "  <tbody>\n",
       "    <tr>\n",
       "      <th>0.0</th>\n",
       "      <td>75047.140094</td>\n",
       "      <td>0.059490</td>\n",
       "      <td>5.419854</td>\n",
       "      <td>53.635114</td>\n",
       "      <td>0.374511</td>\n",
       "      <td>26.242452</td>\n",
       "      <td>5873.411467</td>\n",
       "      <td>8.487656</td>\n",
       "      <td>0.227924</td>\n",
       "      <td>0.922528</td>\n",
       "      <td>0.207956</td>\n",
       "    </tr>\n",
       "    <tr>\n",
       "      <th>1.0</th>\n",
       "      <td>74761.419049</td>\n",
       "      <td>0.074572</td>\n",
       "      <td>5.013580</td>\n",
       "      <td>51.631117</td>\n",
       "      <td>0.368309</td>\n",
       "      <td>14.763965</td>\n",
       "      <td>7205.172361</td>\n",
       "      <td>9.200665</td>\n",
       "      <td>0.186841</td>\n",
       "      <td>1.143525</td>\n",
       "      <td>0.156651</td>\n",
       "    </tr>\n",
       "    <tr>\n",
       "      <th>2.0</th>\n",
       "      <td>75368.220872</td>\n",
       "      <td>0.082054</td>\n",
       "      <td>7.647192</td>\n",
       "      <td>46.202209</td>\n",
       "      <td>0.418112</td>\n",
       "      <td>34.358824</td>\n",
       "      <td>7576.163446</td>\n",
       "      <td>9.028879</td>\n",
       "      <td>0.207786</td>\n",
       "      <td>1.261403</td>\n",
       "      <td>0.185036</td>\n",
       "    </tr>\n",
       "    <tr>\n",
       "      <th>3.0</th>\n",
       "      <td>75061.130932</td>\n",
       "      <td>0.090566</td>\n",
       "      <td>10.102346</td>\n",
       "      <td>45.636135</td>\n",
       "      <td>0.370726</td>\n",
       "      <td>42.293361</td>\n",
       "      <td>8396.601029</td>\n",
       "      <td>8.914580</td>\n",
       "      <td>0.168897</td>\n",
       "      <td>1.272384</td>\n",
       "      <td>0.131504</td>\n",
       "    </tr>\n",
       "    <tr>\n",
       "      <th>4.0</th>\n",
       "      <td>74424.961625</td>\n",
       "      <td>0.104590</td>\n",
       "      <td>2.024736</td>\n",
       "      <td>45.376223</td>\n",
       "      <td>0.451467</td>\n",
       "      <td>32.266914</td>\n",
       "      <td>8691.199398</td>\n",
       "      <td>8.963130</td>\n",
       "      <td>0.209932</td>\n",
       "      <td>1.285553</td>\n",
       "      <td>0.176825</td>\n",
       "    </tr>\n",
       "    <tr>\n",
       "      <th>5.0</th>\n",
       "      <td>74985.937591</td>\n",
       "      <td>0.089985</td>\n",
       "      <td>0.395132</td>\n",
       "      <td>45.943396</td>\n",
       "      <td>0.480406</td>\n",
       "      <td>50.657772</td>\n",
       "      <td>9260.174165</td>\n",
       "      <td>9.023222</td>\n",
       "      <td>0.275762</td>\n",
       "      <td>1.304790</td>\n",
       "      <td>0.245283</td>\n",
       "    </tr>\n",
       "    <tr>\n",
       "      <th>6.0</th>\n",
       "      <td>74925.900000</td>\n",
       "      <td>0.133333</td>\n",
       "      <td>0.424608</td>\n",
       "      <td>47.133333</td>\n",
       "      <td>0.333333</td>\n",
       "      <td>19.108910</td>\n",
       "      <td>8686.493333</td>\n",
       "      <td>8.893333</td>\n",
       "      <td>0.073333</td>\n",
       "      <td>1.200000</td>\n",
       "      <td>0.073333</td>\n",
       "    </tr>\n",
       "    <tr>\n",
       "      <th>7.0</th>\n",
       "      <td>77328.591837</td>\n",
       "      <td>0.102041</td>\n",
       "      <td>0.408293</td>\n",
       "      <td>48.591837</td>\n",
       "      <td>0.387755</td>\n",
       "      <td>42.734145</td>\n",
       "      <td>8934.653061</td>\n",
       "      <td>8.204082</td>\n",
       "      <td>0.142857</td>\n",
       "      <td>1.224490</td>\n",
       "      <td>0.163265</td>\n",
       "    </tr>\n",
       "    <tr>\n",
       "      <th>8.0</th>\n",
       "      <td>80669.090909</td>\n",
       "      <td>0.090909</td>\n",
       "      <td>0.315804</td>\n",
       "      <td>49.727273</td>\n",
       "      <td>0.181818</td>\n",
       "      <td>0.238619</td>\n",
       "      <td>8312.954545</td>\n",
       "      <td>7.636364</td>\n",
       "      <td>0.181818</td>\n",
       "      <td>1.272727</td>\n",
       "      <td>0.000000</td>\n",
       "    </tr>\n",
       "    <tr>\n",
       "      <th>9.0</th>\n",
       "      <td>111995.750000</td>\n",
       "      <td>0.000000</td>\n",
       "      <td>0.414097</td>\n",
       "      <td>42.750000</td>\n",
       "      <td>0.000000</td>\n",
       "      <td>0.352477</td>\n",
       "      <td>8538.750000</td>\n",
       "      <td>8.750000</td>\n",
       "      <td>0.250000</td>\n",
       "      <td>1.000000</td>\n",
       "      <td>0.000000</td>\n",
       "    </tr>\n",
       "    <tr>\n",
       "      <th>10.0</th>\n",
       "      <td>41861.800000</td>\n",
       "      <td>0.000000</td>\n",
       "      <td>0.112469</td>\n",
       "      <td>46.600000</td>\n",
       "      <td>0.400000</td>\n",
       "      <td>724.313041</td>\n",
       "      <td>6879.000000</td>\n",
       "      <td>7.400000</td>\n",
       "      <td>0.000000</td>\n",
       "      <td>0.400000</td>\n",
       "      <td>0.000000</td>\n",
       "    </tr>\n",
       "    <tr>\n",
       "      <th>13.0</th>\n",
       "      <td>128035.000000</td>\n",
       "      <td>0.000000</td>\n",
       "      <td>1.000000</td>\n",
       "      <td>53.000000</td>\n",
       "      <td>1.000000</td>\n",
       "      <td>0.230054</td>\n",
       "      <td>3333.000000</td>\n",
       "      <td>3.000000</td>\n",
       "      <td>1.000000</td>\n",
       "      <td>1.000000</td>\n",
       "      <td>0.000000</td>\n",
       "    </tr>\n",
       "    <tr>\n",
       "      <th>20.0</th>\n",
       "      <td>6300.000000</td>\n",
       "      <td>0.000000</td>\n",
       "      <td>0.226616</td>\n",
       "      <td>40.000000</td>\n",
       "      <td>1.000000</td>\n",
       "      <td>0.576539</td>\n",
       "      <td>6316.000000</td>\n",
       "      <td>11.000000</td>\n",
       "      <td>2.000000</td>\n",
       "      <td>1.000000</td>\n",
       "      <td>0.000000</td>\n",
       "    </tr>\n",
       "  </tbody>\n",
       "</table>\n",
       "</div>"
      ],
      "text/plain": [
       "                               ID  SeriousDlqin2yrs  \\\n",
       "NumberOfDependents                                    \n",
       "0.0                  75047.140094          0.059490   \n",
       "1.0                  74761.419049          0.074572   \n",
       "2.0                  75368.220872          0.082054   \n",
       "3.0                  75061.130932          0.090566   \n",
       "4.0                  74424.961625          0.104590   \n",
       "5.0                  74985.937591          0.089985   \n",
       "6.0                  74925.900000          0.133333   \n",
       "7.0                  77328.591837          0.102041   \n",
       "8.0                  80669.090909          0.090909   \n",
       "9.0                 111995.750000          0.000000   \n",
       "10.0                 41861.800000          0.000000   \n",
       "13.0                128035.000000          0.000000   \n",
       "20.0                  6300.000000          0.000000   \n",
       "\n",
       "                    RevolvingUtilizationOfUnsecuredLines        age  \\\n",
       "NumberOfDependents                                                    \n",
       "0.0                                             5.419854  53.635114   \n",
       "1.0                                             5.013580  51.631117   \n",
       "2.0                                             7.647192  46.202209   \n",
       "3.0                                            10.102346  45.636135   \n",
       "4.0                                             2.024736  45.376223   \n",
       "5.0                                             0.395132  45.943396   \n",
       "6.0                                             0.424608  47.133333   \n",
       "7.0                                             0.408293  48.591837   \n",
       "8.0                                             0.315804  49.727273   \n",
       "9.0                                             0.414097  42.750000   \n",
       "10.0                                            0.112469  46.600000   \n",
       "13.0                                            1.000000  53.000000   \n",
       "20.0                                            0.226616  40.000000   \n",
       "\n",
       "                    NumberOfTime30-59DaysPastDueNotWorse   DebtRatio  \\\n",
       "NumberOfDependents                                                     \n",
       "0.0                                             0.374511   26.242452   \n",
       "1.0                                             0.368309   14.763965   \n",
       "2.0                                             0.418112   34.358824   \n",
       "3.0                                             0.370726   42.293361   \n",
       "4.0                                             0.451467   32.266914   \n",
       "5.0                                             0.480406   50.657772   \n",
       "6.0                                             0.333333   19.108910   \n",
       "7.0                                             0.387755   42.734145   \n",
       "8.0                                             0.181818    0.238619   \n",
       "9.0                                             0.000000    0.352477   \n",
       "10.0                                            0.400000  724.313041   \n",
       "13.0                                            1.000000    0.230054   \n",
       "20.0                                            1.000000    0.576539   \n",
       "\n",
       "                    MonthlyIncome  NumberOfOpenCreditLinesAndLoans  \\\n",
       "NumberOfDependents                                                   \n",
       "0.0                   5873.411467                         8.487656   \n",
       "1.0                   7205.172361                         9.200665   \n",
       "2.0                   7576.163446                         9.028879   \n",
       "3.0                   8396.601029                         8.914580   \n",
       "4.0                   8691.199398                         8.963130   \n",
       "5.0                   9260.174165                         9.023222   \n",
       "6.0                   8686.493333                         8.893333   \n",
       "7.0                   8934.653061                         8.204082   \n",
       "8.0                   8312.954545                         7.636364   \n",
       "9.0                   8538.750000                         8.750000   \n",
       "10.0                  6879.000000                         7.400000   \n",
       "13.0                  3333.000000                         3.000000   \n",
       "20.0                  6316.000000                        11.000000   \n",
       "\n",
       "                    NumberOfTimes90DaysLate  NumberRealEstateLoansOrLines  \\\n",
       "NumberOfDependents                                                          \n",
       "0.0                                0.227924                      0.922528   \n",
       "1.0                                0.186841                      1.143525   \n",
       "2.0                                0.207786                      1.261403   \n",
       "3.0                                0.168897                      1.272384   \n",
       "4.0                                0.209932                      1.285553   \n",
       "5.0                                0.275762                      1.304790   \n",
       "6.0                                0.073333                      1.200000   \n",
       "7.0                                0.142857                      1.224490   \n",
       "8.0                                0.181818                      1.272727   \n",
       "9.0                                0.250000                      1.000000   \n",
       "10.0                               0.000000                      0.400000   \n",
       "13.0                               1.000000                      1.000000   \n",
       "20.0                               2.000000                      1.000000   \n",
       "\n",
       "                    NumberOfTime60-89DaysPastDueNotWorse  \n",
       "NumberOfDependents                                        \n",
       "0.0                                             0.207956  \n",
       "1.0                                             0.156651  \n",
       "2.0                                             0.185036  \n",
       "3.0                                             0.131504  \n",
       "4.0                                             0.176825  \n",
       "5.0                                             0.245283  \n",
       "6.0                                             0.073333  \n",
       "7.0                                             0.163265  \n",
       "8.0                                             0.000000  \n",
       "9.0                                             0.000000  \n",
       "10.0                                            0.000000  \n",
       "13.0                                            0.000000  \n",
       "20.0                                            0.000000  "
      ]
     },
     "execution_count": 13,
     "metadata": {},
     "output_type": "execute_result"
    }
   ],
   "source": [
    "creditrisk.groupby(\"NumberOfDependents\").mean()\n",
    "#creditrisk.groupby(\"SeriousDlqin2yrs\").mean()"
   ]
  },
  {
   "cell_type": "code",
   "execution_count": 14,
   "metadata": {},
   "outputs": [
    {
     "data": {
      "text/plain": [
       "<matplotlib.axes._subplots.AxesSubplot at 0x1df6b924470>"
      ]
     },
     "execution_count": 14,
     "metadata": {},
     "output_type": "execute_result"
    },
    {
     "data": {
      "image/png": "[encoded data removed]",
      "text/plain": [
       "<Figure size 432x288 with 1 Axes>"
      ]
     },
     "metadata": {
      "needs_background": "light"
     },
     "output_type": "display_data"
    }
   ],
   "source": [
    "%matplotlib inline\n",
    "pd.crosstab(creditrisk.SeriousDlqin2yrs,creditrisk.NumberOfDependents).plot(kind='bar')"
   ]
  },
  {
   "cell_type": "code",
   "execution_count": 15,
   "metadata": {},
   "outputs": [
    {
     "data": {
      "image/png": "[encoded data removed]",
      "text/plain": [
       "<Figure size 432x288 with 1 Axes>"
      ]
     },
     "metadata": {
      "needs_background": "light"
     },
     "output_type": "display_data"
    }
   ],
   "source": [
    "plt.boxplot(creditrisk.RevolvingUtilizationOfUnsecuredLines)\n",
    "creditrisk.loc[creditrisk[\"RevolvingUtilizationOfUnsecuredLines\"]>20000,'RevolvingUtilizationOfUnsecuredLines'] = 20000"
   ]
  },
  {
   "cell_type": "code",
   "execution_count": 16,
   "metadata": {},
   "outputs": [
    {
     "data": {
      "text/html": [
       "<div>\n",
       "<style scoped>\n",
       "    .dataframe tbody tr th:only-of-type {\n",
       "        vertical-align: middle;\n",
       "    }\n",
       "\n",
       "    .dataframe tbody tr th {\n",
       "        vertical-align: top;\n",
       "    }\n",
       "\n",
       "    .dataframe thead th {\n",
       "        text-align: right;\n",
       "    }\n",
       "</style>\n",
       "<table border=\"1\" class=\"dataframe\">\n",
       "  <thead>\n",
       "    <tr style=\"text-align: right;\">\n",
       "      <th></th>\n",
       "      <th>ID</th>\n",
       "      <th>SeriousDlqin2yrs</th>\n",
       "      <th>RevolvingUtilizationOfUnsecuredLines</th>\n",
       "      <th>age</th>\n",
       "      <th>NumberOfTime30-59DaysPastDueNotWorse</th>\n",
       "      <th>DebtRatio</th>\n",
       "      <th>MonthlyIncome</th>\n",
       "      <th>NumberOfOpenCreditLinesAndLoans</th>\n",
       "      <th>NumberOfTimes90DaysLate</th>\n",
       "      <th>NumberRealEstateLoansOrLines</th>\n",
       "      <th>NumberOfTime60-89DaysPastDueNotWorse</th>\n",
       "      <th>NumberOfDependents</th>\n",
       "    </tr>\n",
       "  </thead>\n",
       "  <tbody>\n",
       "  </tbody>\n",
       "</table>\n",
       "</div>"
      ],
      "text/plain": [
       "Empty DataFrame\n",
       "Columns: [ID, SeriousDlqin2yrs, RevolvingUtilizationOfUnsecuredLines, age, NumberOfTime30-59DaysPastDueNotWorse, DebtRatio, MonthlyIncome, NumberOfOpenCreditLinesAndLoans, NumberOfTimes90DaysLate, NumberRealEstateLoansOrLines, NumberOfTime60-89DaysPastDueNotWorse, NumberOfDependents]\n",
       "Index: []"
      ]
     },
     "execution_count": 16,
     "metadata": {},
     "output_type": "execute_result"
    }
   ],
   "source": [
    "creditrisk[creditrisk[\"RevolvingUtilizationOfUnsecuredLines\"]>20000]"
   ]
  },
  {
   "cell_type": "code",
   "execution_count": 17,
   "metadata": {},
   "outputs": [
    {
     "data": {
      "image/png": "[encoded data removed]",
      "text/plain": [
       "<Figure size 432x288 with 1 Axes>"
      ]
     },
     "metadata": {
      "needs_background": "light"
     },
     "output_type": "display_data"
    }
   ],
   "source": [
    "plt.boxplot(creditrisk.age)\n",
    "creditrisk[creditrisk[\"age\"]<10].index\n",
    "creditrisk.drop(creditrisk[creditrisk[\"age\"]<10].index, inplace=True)"
   ]
  },
  {
   "cell_type": "code",
   "execution_count": 18,
   "metadata": {},
   "outputs": [
    {
     "data": {
      "text/html": [
       "<div>\n",
       "<style scoped>\n",
       "    .dataframe tbody tr th:only-of-type {\n",
       "        vertical-align: middle;\n",
       "    }\n",
       "\n",
       "    .dataframe tbody tr th {\n",
       "        vertical-align: top;\n",
       "    }\n",
       "\n",
       "    .dataframe thead th {\n",
       "        text-align: right;\n",
       "    }\n",
       "</style>\n",
       "<table border=\"1\" class=\"dataframe\">\n",
       "  <thead>\n",
       "    <tr style=\"text-align: right;\">\n",
       "      <th></th>\n",
       "      <th>ID</th>\n",
       "      <th>SeriousDlqin2yrs</th>\n",
       "      <th>RevolvingUtilizationOfUnsecuredLines</th>\n",
       "      <th>age</th>\n",
       "      <th>NumberOfTime30-59DaysPastDueNotWorse</th>\n",
       "      <th>DebtRatio</th>\n",
       "      <th>MonthlyIncome</th>\n",
       "      <th>NumberOfOpenCreditLinesAndLoans</th>\n",
       "      <th>NumberOfTimes90DaysLate</th>\n",
       "      <th>NumberRealEstateLoansOrLines</th>\n",
       "      <th>NumberOfTime60-89DaysPastDueNotWorse</th>\n",
       "      <th>NumberOfDependents</th>\n",
       "    </tr>\n",
       "  </thead>\n",
       "  <tbody>\n",
       "  </tbody>\n",
       "</table>\n",
       "</div>"
      ],
      "text/plain": [
       "Empty DataFrame\n",
       "Columns: [ID, SeriousDlqin2yrs, RevolvingUtilizationOfUnsecuredLines, age, NumberOfTime30-59DaysPastDueNotWorse, DebtRatio, MonthlyIncome, NumberOfOpenCreditLinesAndLoans, NumberOfTimes90DaysLate, NumberRealEstateLoansOrLines, NumberOfTime60-89DaysPastDueNotWorse, NumberOfDependents]\n",
       "Index: []"
      ]
     },
     "execution_count": 18,
     "metadata": {},
     "output_type": "execute_result"
    },
    {
     "data": {
      "image/png": "[encoded data removed]",
      "text/plain": [
       "<Figure size 432x288 with 1 Axes>"
      ]
     },
     "metadata": {
      "needs_background": "light"
     },
     "output_type": "display_data"
    }
   ],
   "source": [
    "plt.boxplot(creditrisk.age)\n",
    "creditrisk[creditrisk[\"age\"]<10]"
   ]
  },
  {
   "cell_type": "code",
   "execution_count": 19,
   "metadata": {},
   "outputs": [
    {
     "data": {
      "text/plain": [
       "Index(['ID', 'SeriousDlqin2yrs', 'RevolvingUtilizationOfUnsecuredLines', 'age',\n",
       "       'NumberOfTime30-59DaysPastDueNotWorse', 'DebtRatio', 'MonthlyIncome',\n",
       "       'NumberOfOpenCreditLinesAndLoans', 'NumberOfTimes90DaysLate',\n",
       "       'NumberRealEstateLoansOrLines', 'NumberOfTime60-89DaysPastDueNotWorse',\n",
       "       'NumberOfDependents'],\n",
       "      dtype='object')"
      ]
     },
     "execution_count": 19,
     "metadata": {},
     "output_type": "execute_result"
    },
    {
     "data": {
      "image/png": "[encoded data removed]",
      "text/plain": [
       "<Figure size 432x288 with 1 Axes>"
      ]
     },
     "metadata": {
      "needs_background": "light"
     },
     "output_type": "display_data"
    }
   ],
   "source": [
    "plt.boxplot(creditrisk['NumberOfTime30-59DaysPastDueNotWorse'])\n",
    "creditrisk[creditrisk['NumberOfTime30-59DaysPastDueNotWorse']>50]\n",
    "creditrisk.columns\n",
    "#plt.boxplot(creditrisk['DebtRatio'])\n",
    "#creditrisk[creditrisk['DebtRatio']>40000]\n",
    "#plt.hist(creditrisk['MonthlyIncome'])"
   ]
  },
  {
   "cell_type": "code",
   "execution_count": 20,
   "metadata": {},
   "outputs": [],
   "source": [
    "creditrisk.columns\n",
    "creditrisk1=creditrisk.drop(\"ID\", axis=1)"
   ]
  },
  {
   "cell_type": "code",
   "execution_count": 21,
   "metadata": {},
   "outputs": [],
   "source": [
    "#this is used for normalization, if there are outliers then min max scaler is not effective. Minmax scaler is sensitive to outliers\n",
    "\n",
    "from sklearn.preprocessing import MinMaxScaler\n",
    "scaler = MinMaxScaler()\n",
    "creditrisk_scale = scaler.fit_transform(creditrisk1)"
   ]
  },
  {
   "cell_type": "code",
   "execution_count": 22,
   "metadata": {},
   "outputs": [],
   "source": [
    "creditrisk_scale.shape\n",
    "#creditrisk_scale.head()\n",
    "creditrisk_scale=pd.DataFrame(creditrisk_scale)"
   ]
  },
  {
   "cell_type": "code",
   "execution_count": 23,
   "metadata": {},
   "outputs": [
    {
     "data": {
      "text/html": [
       "<div>\n",
       "<style scoped>\n",
       "    .dataframe tbody tr th:only-of-type {\n",
       "        vertical-align: middle;\n",
       "    }\n",
       "\n",
       "    .dataframe tbody tr th {\n",
       "        vertical-align: top;\n",
       "    }\n",
       "\n",
       "    .dataframe thead th {\n",
       "        text-align: right;\n",
       "    }\n",
       "</style>\n",
       "<table border=\"1\" class=\"dataframe\">\n",
       "  <thead>\n",
       "    <tr style=\"text-align: right;\">\n",
       "      <th></th>\n",
       "      <th>SeriousDlqin2yrs</th>\n",
       "      <th>RevolvingUtilizationOfUnsecuredLines</th>\n",
       "      <th>age</th>\n",
       "      <th>NumberOfTime30-59DaysPastDueNotWorse</th>\n",
       "      <th>DebtRatio</th>\n",
       "      <th>MonthlyIncome</th>\n",
       "      <th>NumberOfOpenCreditLinesAndLoans</th>\n",
       "      <th>NumberOfTimes90DaysLate</th>\n",
       "      <th>NumberRealEstateLoansOrLines</th>\n",
       "      <th>NumberOfTime60-89DaysPastDueNotWorse</th>\n",
       "      <th>NumberOfDependents</th>\n",
       "    </tr>\n",
       "  </thead>\n",
       "  <tbody>\n",
       "    <tr>\n",
       "      <th>0</th>\n",
       "      <td>1.0</td>\n",
       "      <td>0.000038</td>\n",
       "      <td>0.292683</td>\n",
       "      <td>0.020408</td>\n",
       "      <td>1.314070e-05</td>\n",
       "      <td>0.003031</td>\n",
       "      <td>0.224138</td>\n",
       "      <td>0.000000</td>\n",
       "      <td>0.111111</td>\n",
       "      <td>0.0</td>\n",
       "      <td>0.10</td>\n",
       "    </tr>\n",
       "    <tr>\n",
       "      <th>1</th>\n",
       "      <td>0.0</td>\n",
       "      <td>0.000048</td>\n",
       "      <td>0.231707</td>\n",
       "      <td>0.000000</td>\n",
       "      <td>1.994488e-06</td>\n",
       "      <td>0.000864</td>\n",
       "      <td>0.068966</td>\n",
       "      <td>0.000000</td>\n",
       "      <td>0.000000</td>\n",
       "      <td>0.0</td>\n",
       "      <td>0.05</td>\n",
       "    </tr>\n",
       "    <tr>\n",
       "      <th>2</th>\n",
       "      <td>0.0</td>\n",
       "      <td>0.000033</td>\n",
       "      <td>0.207317</td>\n",
       "      <td>0.010204</td>\n",
       "      <td>1.392869e-06</td>\n",
       "      <td>0.001011</td>\n",
       "      <td>0.034483</td>\n",
       "      <td>0.010204</td>\n",
       "      <td>0.000000</td>\n",
       "      <td>0.0</td>\n",
       "      <td>0.00</td>\n",
       "    </tr>\n",
       "    <tr>\n",
       "      <th>3</th>\n",
       "      <td>0.0</td>\n",
       "      <td>0.000012</td>\n",
       "      <td>0.109756</td>\n",
       "      <td>0.000000</td>\n",
       "      <td>5.899484e-07</td>\n",
       "      <td>0.001097</td>\n",
       "      <td>0.086207</td>\n",
       "      <td>0.000000</td>\n",
       "      <td>0.000000</td>\n",
       "      <td>0.0</td>\n",
       "      <td>0.00</td>\n",
       "    </tr>\n",
       "    <tr>\n",
       "      <th>4</th>\n",
       "      <td>0.0</td>\n",
       "      <td>0.000045</td>\n",
       "      <td>0.341463</td>\n",
       "      <td>0.010204</td>\n",
       "      <td>4.079058e-07</td>\n",
       "      <td>0.021134</td>\n",
       "      <td>0.120690</td>\n",
       "      <td>0.000000</td>\n",
       "      <td>0.018519</td>\n",
       "      <td>0.0</td>\n",
       "      <td>0.00</td>\n",
       "    </tr>\n",
       "  </tbody>\n",
       "</table>\n",
       "</div>"
      ],
      "text/plain": [
       "   SeriousDlqin2yrs  RevolvingUtilizationOfUnsecuredLines       age  \\\n",
       "0               1.0                              0.000038  0.292683   \n",
       "1               0.0                              0.000048  0.231707   \n",
       "2               0.0                              0.000033  0.207317   \n",
       "3               0.0                              0.000012  0.109756   \n",
       "4               0.0                              0.000045  0.341463   \n",
       "\n",
       "   NumberOfTime30-59DaysPastDueNotWorse     DebtRatio  MonthlyIncome  \\\n",
       "0                              0.020408  1.314070e-05       0.003031   \n",
       "1                              0.000000  1.994488e-06       0.000864   \n",
       "2                              0.010204  1.392869e-06       0.001011   \n",
       "3                              0.000000  5.899484e-07       0.001097   \n",
       "4                              0.010204  4.079058e-07       0.021134   \n",
       "\n",
       "   NumberOfOpenCreditLinesAndLoans  NumberOfTimes90DaysLate  \\\n",
       "0                         0.224138                 0.000000   \n",
       "1                         0.068966                 0.000000   \n",
       "2                         0.034483                 0.010204   \n",
       "3                         0.086207                 0.000000   \n",
       "4                         0.120690                 0.000000   \n",
       "\n",
       "   NumberRealEstateLoansOrLines  NumberOfTime60-89DaysPastDueNotWorse  \\\n",
       "0                      0.111111                                   0.0   \n",
       "1                      0.000000                                   0.0   \n",
       "2                      0.000000                                   0.0   \n",
       "3                      0.000000                                   0.0   \n",
       "4                      0.018519                                   0.0   \n",
       "\n",
       "   NumberOfDependents  \n",
       "0                0.10  \n",
       "1                0.05  \n",
       "2                0.00  \n",
       "3                0.00  \n",
       "4                0.00  "
      ]
     },
     "execution_count": 23,
     "metadata": {},
     "output_type": "execute_result"
    }
   ],
   "source": [
    "creditrisk_scale.columns=creditrisk1.columns\n",
    "creditrisk_scale.head()"
   ]
  },
  {
   "cell_type": "code",
   "execution_count": 24,
   "metadata": {},
   "outputs": [],
   "source": [
    "X = creditrisk_scale.drop(\"SeriousDlqin2yrs\", axis=1)\n",
    "y = creditrisk_scale['SeriousDlqin2yrs']"
   ]
  },
  {
   "cell_type": "code",
   "execution_count": 25,
   "metadata": {},
   "outputs": [],
   "source": [
    "from sklearn.model_selection import train_test_split\n",
    "X_train, X_test, y_train, y_test = train_test_split(X, y,random_state = 200,test_size=0.25)"
   ]
  },
  {
   "cell_type": "code",
   "execution_count": 26,
   "metadata": {},
   "outputs": [
    {
     "data": {
      "text/plain": [
       "0.9325838959656767"
      ]
     },
     "execution_count": 26,
     "metadata": {},
     "output_type": "execute_result"
    }
   ],
   "source": [
    "import sklearn.tree as tree\n",
    "Dec_tree = tree.DecisionTreeClassifier(max_depth=3,random_state=200)\n",
    "Dec_tree.fit(X_train,y_train)\n",
    "Dec_tree.score(X_test,y_test)"
   ]
  },
  {
   "cell_type": "code",
   "execution_count": 27,
   "metadata": {},
   "outputs": [
    {
     "data": {
      "text/plain": [
       "0.7364749050503242"
      ]
     },
     "execution_count": 27,
     "metadata": {},
     "output_type": "execute_result"
    }
   ],
   "source": [
    "import sklearn.metrics as metrics\n",
    "metrics.roc_auc_score(y_test,Dec_tree.predict_proba(X_test)[:,1])  # Area under the curve"
   ]
  },
  {
   "cell_type": "code",
   "execution_count": 28,
   "metadata": {},
   "outputs": [
    {
     "data": {
      "text/plain": [
       "0.0    111911\n",
       "1.0      8357\n",
       "Name: SeriousDlqin2yrs, dtype: int64"
      ]
     },
     "execution_count": 28,
     "metadata": {},
     "output_type": "execute_result"
    }
   ],
   "source": [
    "creditrisk_scale['SeriousDlqin2yrs'].unique()\n",
    "creditrisk_scale['SeriousDlqin2yrs'].value_counts()  \n"
   ]
  },
  {
   "cell_type": "code",
   "execution_count": 29,
   "metadata": {},
   "outputs": [],
   "source": [
    "from sklearn.model_selection import train_test_split\n",
    "X_train, X_test, y_train, y_test = train_test_split(X, y,random_state = 200,test_size=0.25,stratify=y)"
   ]
  },
  {
   "cell_type": "code",
   "execution_count": 30,
   "metadata": {},
   "outputs": [
    {
     "name": "stdout",
     "output_type": "stream",
     "text": [
      "Testing score: 0.9331160408421193\n"
     ]
    }
   ],
   "source": [
    "import sklearn.tree as tree\n",
    "Dec_tree = tree.DecisionTreeClassifier(max_depth=3,random_state=200)\n",
    "Dec_tree.fit(X_train,y_train)\n",
    "Dec_tree_test_score =Dec_tree.score(X_test,y_test)\n",
    "print(\"Testing score:\",Dec_tree_test_score)"
   ]
  },
  {
   "cell_type": "code",
   "execution_count": 31,
   "metadata": {},
   "outputs": [
    {
     "data": {
      "text/plain": [
       "0.771440887305936"
      ]
     },
     "execution_count": 31,
     "metadata": {},
     "output_type": "execute_result"
    }
   ],
   "source": [
    "import sklearn.metrics as metrics\n",
    "metrics.roc_auc_score(y_test,Dec_tree.predict_proba(X_test)[:,1])  # Area under the curve"
   ]
  },
  {
   "cell_type": "code",
   "execution_count": 32,
   "metadata": {},
   "outputs": [
    {
     "name": "stdout",
     "output_type": "stream",
     "text": [
      "Requirement already satisfied: model_selection in c:\\users\\sai\\anaconda3\\lib\\site-packages (0.0.1)\n"
     ]
    }
   ],
   "source": [
    "#import sys\n",
    "#!{sys.executable} -m pip install model_selection"
   ]
  },
  {
   "cell_type": "code",
   "execution_count": 33,
   "metadata": {},
   "outputs": [],
   "source": [
    "import graphviz\n",
    "import pydotplus"
   ]
  },
  {
   "cell_type": "code",
   "execution_count": 34,
   "metadata": {},
   "outputs": [
    {
     "data": {
      "text/plain": [
       "dtype('float64')"
      ]
     },
     "execution_count": 34,
     "metadata": {},
     "output_type": "execute_result"
    }
   ],
   "source": [
    "y_test.dtype"
   ]
  },
  {
   "cell_type": "code",
   "execution_count": 35,
   "metadata": {},
   "outputs": [
    {
     "ename": "NameError",
     "evalue": "name 'Image' is not defined",
     "output_type": "error",
     "traceback": [
      "\u001b[1;31m---------------------------------------------------------------------------\u001b[0m",
      "\u001b[1;31mNameError\u001b[0m                                 Traceback (most recent call last)",
      "\u001b[1;32m<ipython-input-35-d9756328192d>\u001b[0m in \u001b[0;36m<module>\u001b[1;34m\u001b[0m\n\u001b[0;32m      9\u001b[0m \u001b[0mgraph\u001b[0m \u001b[1;33m=\u001b[0m \u001b[0mpydotplus\u001b[0m\u001b[1;33m.\u001b[0m\u001b[0mgraph_from_dot_data\u001b[0m\u001b[1;33m(\u001b[0m\u001b[0mdot_data\u001b[0m\u001b[1;33m)\u001b[0m\u001b[1;33m\u001b[0m\u001b[1;33m\u001b[0m\u001b[0m\n\u001b[0;32m     10\u001b[0m \u001b[1;31m#from Ipython.display import Image\u001b[0m\u001b[1;33m\u001b[0m\u001b[1;33m\u001b[0m\u001b[1;33m\u001b[0m\u001b[0m\n\u001b[1;32m---> 11\u001b[1;33m \u001b[0mImage\u001b[0m\u001b[1;33m(\u001b[0m\u001b[0mgraph\u001b[0m\u001b[1;33m.\u001b[0m\u001b[0mcreate_png\u001b[0m\u001b[1;33m(\u001b[0m\u001b[1;33m)\u001b[0m\u001b[1;33m)\u001b[0m\u001b[1;33m\u001b[0m\u001b[1;33m\u001b[0m\u001b[0m\n\u001b[0m",
      "\u001b[1;31mNameError\u001b[0m: name 'Image' is not defined"
     ]
    }
   ],
   "source": []
  },
  {
   "cell_type": "code",
   "execution_count": 72,
   "metadata": {},
   "outputs": [
    {
     "ename": "AttributeError",
     "evalue": "'Series' object has no attribute 'columns'",
     "output_type": "error",
     "traceback": [
      "\u001b[1;31m---------------------------------------------------------------------------\u001b[0m",
      "\u001b[1;31mAttributeError\u001b[0m                            Traceback (most recent call last)",
      "\u001b[1;32m<ipython-input-72-f292d70bb955>\u001b[0m in \u001b[0;36m<module>\u001b[1;34m\u001b[0m\n\u001b[0;32m      6\u001b[0m tree.export_graphviz(Dec_tree, \n\u001b[0;32m      7\u001b[0m  \u001b[0mout_file\u001b[0m\u001b[1;33m=\u001b[0m\u001b[0mdot_data\u001b[0m\u001b[1;33m,\u001b[0m\u001b[1;33m\u001b[0m\u001b[1;33m\u001b[0m\u001b[0m\n\u001b[1;32m----> 8\u001b[1;33m  \u001b[0mclass_names\u001b[0m\u001b[1;33m=\u001b[0m\u001b[0my_test\u001b[0m\u001b[1;33m.\u001b[0m\u001b[0mcolumns\u001b[0m\u001b[1;33m,\u001b[0m \u001b[1;31m# the target names.\u001b[0m\u001b[1;33m\u001b[0m\u001b[1;33m\u001b[0m\u001b[0m\n\u001b[0m\u001b[0;32m      9\u001b[0m  \u001b[0mfeature_names\u001b[0m\u001b[1;33m=\u001b[0m\u001b[0mX_test\u001b[0m\u001b[1;33m.\u001b[0m\u001b[0mcolumns\u001b[0m\u001b[1;33m,\u001b[0m \u001b[1;31m# the feature names.\u001b[0m\u001b[1;33m\u001b[0m\u001b[1;33m\u001b[0m\u001b[0m\n\u001b[0;32m     10\u001b[0m  \u001b[0mfilled\u001b[0m\u001b[1;33m=\u001b[0m\u001b[1;32mTrue\u001b[0m\u001b[1;33m,\u001b[0m \u001b[1;31m# Whether to fill in the boxes with colours.\u001b[0m\u001b[1;33m\u001b[0m\u001b[1;33m\u001b[0m\u001b[0m\n",
      "\u001b[1;32m~\\Anaconda3\\lib\\site-packages\\pandas\\core\\generic.py\u001b[0m in \u001b[0;36m__getattr__\u001b[1;34m(self, name)\u001b[0m\n\u001b[0;32m   5061\u001b[0m         if (name in self._internal_names_set or name in self._metadata or\n\u001b[0;32m   5062\u001b[0m                 name in self._accessors):\n\u001b[1;32m-> 5063\u001b[1;33m             \u001b[1;32mreturn\u001b[0m \u001b[0mobject\u001b[0m\u001b[1;33m.\u001b[0m\u001b[0m__getattribute__\u001b[0m\u001b[1;33m(\u001b[0m\u001b[0mself\u001b[0m\u001b[1;33m,\u001b[0m \u001b[0mname\u001b[0m\u001b[1;33m)\u001b[0m\u001b[1;33m\u001b[0m\u001b[1;33m\u001b[0m\u001b[0m\n\u001b[0m\u001b[0;32m   5064\u001b[0m         \u001b[1;32melse\u001b[0m\u001b[1;33m:\u001b[0m\u001b[1;33m\u001b[0m\u001b[1;33m\u001b[0m\u001b[0m\n\u001b[0;32m   5065\u001b[0m             \u001b[1;32mif\u001b[0m \u001b[0mself\u001b[0m\u001b[1;33m.\u001b[0m\u001b[0m_info_axis\u001b[0m\u001b[1;33m.\u001b[0m\u001b[0m_can_hold_identifiers_and_holds_name\u001b[0m\u001b[1;33m(\u001b[0m\u001b[0mname\u001b[0m\u001b[1;33m)\u001b[0m\u001b[1;33m:\u001b[0m\u001b[1;33m\u001b[0m\u001b[1;33m\u001b[0m\u001b[0m\n",
      "\u001b[1;31mAttributeError\u001b[0m: 'Series' object has no attribute 'columns'"
     ]
    }
   ],
   "source": []
  },
  {
   "cell_type": "code",
   "execution_count": 36,
   "metadata": {},
   "outputs": [
    {
     "name": "stderr",
     "output_type": "stream",
     "text": [
      "C:\\Users\\Sai\\Anaconda3\\lib\\site-packages\\sklearn\\externals\\six.py:31: FutureWarning: The module is deprecated in version 0.21 and will be removed in version 0.23 since we've dropped support for Python 2.7. Please rely on the official version of six (https://pypi.org/project/six/).\n",
      "  \"(https://pypi.org/project/six/).\", FutureWarning)\n"
     ]
    },
    {
     "data": {
      "image/png": "[encoded data removed]",
      "text/plain": [
       "<IPython.core.display.Image object>"
      ]
     },
     "execution_count": 36,
     "metadata": {},
     "output_type": "execute_result"
    }
   ],
   "source": [
    "\n",
    "from sklearn.externals.six import StringIO  \n",
    "from IPython.display import Image  \n",
    "from sklearn.tree import export_graphviz\n",
    "import pydotplus\n",
    "dot_data = StringIO()\n",
    "export_graphviz(Dec_tree, out_file=dot_data,  \n",
    "                filled=True, rounded=True,\n",
    "                special_characters=True)\n",
    "graph = pydotplus.graph_from_dot_data(dot_data.getvalue())  \n",
    "Image(graph.create_png())\n"
   ]
  },
  {
   "cell_type": "code",
   "execution_count": 37,
   "metadata": {},
   "outputs": [
    {
     "name": "stdout",
     "output_type": "stream",
     "text": [
      "DecisionTreeClassifier(ccp_alpha=0.0, class_weight=None, criterion='gini',\n",
      "                       max_depth=5, max_features=None, max_leaf_nodes=None,\n",
      "                       min_impurity_decrease=0.0, min_impurity_split=None,\n",
      "                       min_samples_leaf=1, min_samples_split=2,\n",
      "                       min_weight_fraction_leaf=0.0, presort='deprecated',\n",
      "                       random_state=200, splitter='best') \n",
      "Best score is : 0.933426447592703\n"
     ]
    }
   ],
   "source": [
    "#Grid Search CV\n",
    "from sklearn import model_selection\n",
    "clf = tree.DecisionTreeClassifier(max_depth=3,random_state=200)\n",
    "mod= model_selection.GridSearchCV(clf,param_grid={'max_depth':[2,3,4,5,6]})\n",
    "mod.fit(X_train,y_train)\n",
    "mod.best_estimator_\n",
    "mod.best_score_\n",
    "print(mod.best_estimator_ , \"\\nBest score is :\" , mod.best_score_)"
   ]
  },
  {
   "cell_type": "code",
   "execution_count": null,
   "metadata": {},
   "outputs": [],
   "source": []
  },
  {
   "cell_type": "code",
   "execution_count": 38,
   "metadata": {},
   "outputs": [
    {
     "data": {
      "text/plain": [
       "0.9312646201261627"
      ]
     },
     "execution_count": 38,
     "metadata": {},
     "output_type": "execute_result"
    }
   ],
   "source": [
    "#Random Forest\n",
    "from sklearn.ensemble import RandomForestClassifier\n",
    "clf = RandomForestClassifier(n_estimators=80,oob_score=True,n_jobs=-1,random_state=400)\n",
    "clf.fit(X_train,y_train)\n",
    "clf.oob_score_"
   ]
  },
  {
   "cell_type": "code",
   "execution_count": 41,
   "metadata": {},
   "outputs": [
    {
     "name": "stdout",
     "output_type": "stream",
     "text": [
      "OOB SCORE : 0.9312646201261627\n"
     ]
    }
   ],
   "source": [
    "print('OOB SCORE :' ,clf.oob_score_)"
   ]
  },
  {
   "cell_type": "code",
   "execution_count": 51,
   "metadata": {},
   "outputs": [
    {
     "name": "stderr",
     "output_type": "stream",
     "text": [
      "C:\\Users\\Sai\\Anaconda3\\lib\\site-packages\\sklearn\\ensemble\\_forest.py:523: UserWarning: Some inputs do not have OOB scores. This probably means too few trees were used to compute any reliable oob estimates.\n",
      "  warn(\"Some inputs do not have OOB scores. \"\n",
      "C:\\Users\\Sai\\Anaconda3\\lib\\site-packages\\sklearn\\ensemble\\_forest.py:528: RuntimeWarning: invalid value encountered in true_divide\n",
      "  predictions[k].sum(axis=1)[:, np.newaxis])\n"
     ]
    },
    {
     "name": "stdout",
     "output_type": "stream",
     "text": [
      "For n_estimators=10\n",
      "OOB score is 0.9230385472444873\n",
      "AUC :0.7727460997273349\n",
      "********\n",
      "For n_estimators=30\n",
      "OOB score is 0.9296238400904646\n",
      "AUC :0.8121907296990274\n",
      "********\n",
      "For n_estimators=50\n",
      "OOB score is 0.930410971053536\n",
      "AUC :0.8220892870726817\n",
      "********\n",
      "For n_estimators=70\n",
      "OOB score is 0.9308211660624605\n",
      "AUC :0.8260172776113734\n",
      "********\n",
      "For n_estimators=90\n",
      "OOB score is 0.9312424474229776\n",
      "AUC :0.82706181369818\n",
      "********\n",
      "For n_estimators=110\n",
      "OOB score is 0.931430915400051\n",
      "AUC :0.8297788411403462\n",
      "********\n",
      "For n_estimators=130\n",
      "OOB score is 0.9314087426968659\n",
      "AUC :0.8311584897399895\n",
      "********\n",
      "For n_estimators=150\n",
      "OOB score is 0.9318078513541979\n",
      "AUC :0.8332530370491128\n",
      "********\n",
      "For n_estimators=170\n",
      "OOB score is 0.9320406647376415\n",
      "AUC :0.8336716282686858\n",
      "********\n",
      "For n_estimators=190\n",
      "OOB score is 0.9319741466280862\n",
      "AUC :0.8338391588604066\n",
      "********\n",
      "For n_estimators=210\n",
      "OOB score is 0.9320074056828638\n",
      "AUC :0.8345436890320135\n",
      "********\n",
      "For n_estimators=230\n",
      "OOB score is 0.932051751089234\n",
      "AUC :0.8348797511386655\n",
      "********\n",
      "For n_estimators=250\n",
      "OOB score is 0.9320739237924192\n",
      "AUC :0.8353770816507984\n",
      "********\n",
      "For n_estimators=270\n",
      "OOB score is 0.9322513054179\n",
      "AUC :0.8355149524068712\n",
      "********\n",
      "For n_estimators=290\n",
      "OOB score is 0.9321293555503819\n",
      "AUC :0.8359216437616084\n",
      "********\n",
      "For n_estimators=310\n",
      "OOB score is 0.9321071828471968\n",
      "AUC :0.8366936720881799\n",
      "********\n",
      "For n_estimators=330\n",
      "OOB score is 0.9322956508242702\n",
      "AUC :0.8370489998279097\n",
      "********\n",
      "For n_estimators=350\n",
      "OOB score is 0.9322623917694925\n",
      "AUC :0.8369733317441752\n",
      "********\n",
      "For n_estimators=370\n",
      "OOB score is 0.9322402190663075\n",
      "AUC :0.8369625012417437\n",
      "********\n",
      "For n_estimators=390\n",
      "OOB score is 0.9325728096140841\n",
      "AUC :0.8371521975773826\n",
      "********\n"
     ]
    }
   ],
   "source": [
    "for w in range(10,400,20):\n",
    "    clf=RandomForestClassifier(n_estimators=w,oob_score=True,n_jobs=-1,random_state=400)\n",
    "    clf.fit(X_train,y_train)\n",
    "    oob=clf.oob_score_\n",
    "    AUC = metrics.roc_auc_score(y_test,clf.predict_proba(X_test)[:,1])\n",
    "    print('For n_estimators=' +str(w))\n",
    "    print('OOB score is ' +str(oob))\n",
    "    print('AUC :' +str(AUC))\n",
    "    print('********')"
   ]
  },
  {
   "cell_type": "code",
   "execution_count": 52,
   "metadata": {},
   "outputs": [
    {
     "data": {
      "text/plain": [
       "0.9308211660624605"
      ]
     },
     "execution_count": 52,
     "metadata": {},
     "output_type": "execute_result"
    }
   ],
   "source": [
    "from sklearn.ensemble import RandomForestClassifier\n",
    "clf = RandomForestClassifier(n_estimators=70,oob_score=True,n_jobs=-1,random_state=400)\n",
    "clf.fit(X_train,y_train)\n",
    "clf.oob_score_"
   ]
  },
  {
   "cell_type": "code",
   "execution_count": 53,
   "metadata": {},
   "outputs": [
    {
     "data": {
      "text/plain": [
       "0.8260173888250637"
      ]
     },
     "execution_count": 53,
     "metadata": {},
     "output_type": "execute_result"
    }
   ],
   "source": [
    "import sklearn.metrics as metrics\n",
    "metrics.roc_auc_score(y_test,clf.predict_proba(X_test)[:,1])  # Area under the curve"
   ]
  },
  {
   "cell_type": "code",
   "execution_count": 54,
   "metadata": {},
   "outputs": [
    {
     "data": {
      "text/plain": [
       "array([0.17282796, 0.12860737, 0.05294753, 0.14785967, 0.17899391,\n",
       "       0.09636835, 0.08902383, 0.03720332, 0.05041254, 0.04575551])"
      ]
     },
     "execution_count": 54,
     "metadata": {},
     "output_type": "execute_result"
    }
   ],
   "source": [
    "clf.feature_importances_"
   ]
  },
  {
   "cell_type": "code",
   "execution_count": null,
   "metadata": {},
   "outputs": [],
   "source": []
  },
  {
   "cell_type": "code",
   "execution_count": 57,
   "metadata": {},
   "outputs": [
    {
     "data": {
      "text/plain": [
       "0.9358432833338877"
      ]
     },
     "execution_count": 57,
     "metadata": {},
     "output_type": "execute_result"
    }
   ],
   "source": [
    "#Gradient Boosting \n",
    "from sklearn.ensemble import GradientBoostingClassifier\n",
    "mod = GradientBoostingClassifier(n_estimators=70,random_state=400)\n",
    "mod.fit(X_train,y_train)\n",
    "mod.score(X_test,y_test)"
   ]
  },
  {
   "cell_type": "code",
   "execution_count": 62,
   "metadata": {},
   "outputs": [
    {
     "name": "stdout",
     "output_type": "stream",
     "text": [
      "Learning rate:  0.05\n",
      "Accuracy score (training): 0.931\n",
      "Accuracy score (test): 0.931\n",
      "\n",
      "Learning rate:  0.1\n",
      "Accuracy score (training): 0.932\n",
      "Accuracy score (test): 0.933\n",
      "\n",
      "Learning rate:  0.25\n",
      "Accuracy score (training): 0.933\n",
      "Accuracy score (test): 0.934\n",
      "\n",
      "Learning rate:  0.5\n",
      "Accuracy score (training): 0.931\n",
      "Accuracy score (test): 0.932\n",
      "\n",
      "Learning rate:  0.75\n",
      "Accuracy score (training): 0.933\n",
      "Accuracy score (test): 0.933\n",
      "\n",
      "Learning rate:  1\n",
      "Accuracy score (training): 0.930\n",
      "Accuracy score (test): 0.930\n",
      "\n"
     ]
    }
   ],
   "source": [
    "learning_rates = [0.05, 0.1, 0.25, 0.5, 0.75, 1]\n",
    "for learning_rate in learning_rates:\n",
    "    gb = GradientBoostingClassifier(n_estimators=20, learning_rate = learning_rate, max_features=2, max_depth = 2, random_state = 0)\n",
    "    gb.fit(X_train, y_train)\n",
    "    print(\"Learning rate: \", learning_rate)\n",
    "    print(\"Accuracy score (training): {0:.3f}\".format(gb.score(X_train, y_train)))\n",
    "    print(\"Accuracy score (test): {0:.3f}\".format(gb.score(X_test, y_test)))\n",
    "   \n",
    "    print()"
   ]
  },
  {
   "cell_type": "code",
   "execution_count": 65,
   "metadata": {},
   "outputs": [
    {
     "name": "stdout",
     "output_type": "stream",
     "text": [
      "Confusion Matrix:\n",
      "[[27743   235]\n",
      " [ 1746   343]]\n",
      "\n",
      "Classification Report\n",
      "              precision    recall  f1-score   support\n",
      "\n",
      "         0.0       0.94      0.99      0.97     27978\n",
      "         1.0       0.59      0.16      0.26      2089\n",
      "\n",
      "    accuracy                           0.93     30067\n",
      "   macro avg       0.77      0.58      0.61     30067\n",
      "weighted avg       0.92      0.93      0.92     30067\n",
      "\n",
      "Area under ROC curve = 0.82\n"
     ]
    }
   ],
   "source": [
    "from sklearn.metrics import classification_report, confusion_matrix, roc_curve, auc\n",
    "\n",
    "# Output confusion matrix and classification report of Gradient Boosting algorithm on validation set\n",
    "gb = GradientBoostingClassifier(n_estimators=20, learning_rate = 0.25, max_features=2, max_depth = 2, random_state = 0)\n",
    "gb.fit(X_train, y_train)\n",
    "predictions = gb.predict(X_test)\n",
    "\n",
    "print(\"Confusion Matrix:\")\n",
    "print(confusion_matrix(y_test, predictions))\n",
    "print()\n",
    "print(\"Classification Report\")\n",
    "print(classification_report(y_test, predictions))\n",
    "\n",
    "# ROC curve and Area-Under-Curve (AUC)\n",
    "y_scores_gb = gb.decision_function(X_test)\n",
    "fpr_gb, tpr_gb, _ = roc_curve(y_test, y_scores_gb)\n",
    "roc_auc_gb = auc(fpr_gb, tpr_gb)\n",
    "\n",
    "print(\"Area under ROC curve = {:0.2f}\".format(roc_auc_gb))\n"
   ]
  },
  {
   "cell_type": "code",
   "execution_count": null,
   "metadata": {},
   "outputs": [],
   "source": [
    "#Gridsearch CV"
   ]
  },
  {
   "cell_type": "code",
   "execution_count": 71,
   "metadata": {},
   "outputs": [
    {
     "name": "stdout",
     "output_type": "stream",
     "text": [
      "0.9355772108956664\n",
      "{'learning_rate': 0.15, 'loss': 'deviance', 'n_estimators': 40}\n"
     ]
    }
   ],
   "source": [
    "\n",
    "from sklearn.model_selection import GridSearchCV\n",
    "\"\"\"parameters = {\n",
    "    \"loss\":[\"deviance\"],\n",
    "    \"learning_rate\": [0.01, 0.025, 0.05, 0.075, 0.1, 0.15, 0.2],\n",
    "    \"min_samples_split\": np.linspace(0.1, 0.5, 12),\n",
    "    \"min_samples_leaf\": np.linspace(0.1, 0.5, 12),\n",
    "    \"max_depth\":[2,3,5,8],\n",
    "    \"max_features\":[\"log2\",\"sqrt\"],\n",
    "    \"criterion\": [\"friedman_mse\",  \"mae\"],\n",
    "    \"subsample\":[0.5, 0.618, 0.8, 0.85, 0.9, 0.95, 1.0],\n",
    "    \"n_estimators\":[10,20,30,40,50]\n",
    "    }\"\"\"\n",
    "\n",
    "parameters = {\n",
    "    \"loss\":[\"deviance\"],\n",
    "    \"learning_rate\": [0.01, 0.025, 0.05, 0.075, 0.1, 0.15, 0.2],\n",
    "    \"n_estimators\":[10,20,30,40]\n",
    "    }\n",
    "clf = GridSearchCV(GradientBoostingClassifier(), parameters, cv=10, n_jobs=-1)\n",
    "\n",
    "clf.fit(X_train, y_train)\n",
    "print(clf.score(X_train, y_train))\n",
    "print(clf.best_params_)"
   ]
  },
  {
   "cell_type": "code",
   "execution_count": null,
   "metadata": {},
   "outputs": [],
   "source": []
  }
 ],
 "metadata": {
  "kernelspec": {
   "display_name": "Python 3",
   "language": "python",
   "name": "python3"
  },
  "language_info": {
   "codemirror_mode": {
    "name": "ipython",
    "version": 3
   },
   "file_extension": ".py",
   "mimetype": "text/x-python",
   "name": "python",
   "nbconvert_exporter": "python",
   "pygments_lexer": "ipython3",
   "version": "3.7.3"
  }
 },
 "nbformat": 4,
 "nbformat_minor": 2
}
