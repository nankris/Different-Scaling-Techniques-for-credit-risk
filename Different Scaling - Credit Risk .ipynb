{
 "cells": [
  {
   "cell_type": "code",
   "execution_count": 143,
   "metadata": {},
   "outputs": [],
   "source": [
    "#in this file four scaling techniques are used: minmaxscaler, Standard Scaler, MaxAbs Scaler, Robust Scaler, Normalization\n",
    "#accuracies are:\n",
    "#MinMax Scaler 65.9\n",
    "#Standard Scaler 69.1\n",
    "#MaxAbs Scaler 65.9\n",
    "#Robust Scaler 58.6\n",
    "#Normalization 69.4"
   ]
  },
  {
   "cell_type": "code",
   "execution_count": 2,
   "metadata": {},
   "outputs": [],
   "source": [
    "import os\n",
    "os.chdir(\"C:\\\\Users\\\\Poori\\\\Desktop\\\\Udemy\\\\A-Z Machine learning Kaggle\\\\Github\\\\Python Basics\\\\Course Files\\\\datacode\")"
   ]
  },
  {
   "cell_type": "code",
   "execution_count": 75,
   "metadata": {},
   "outputs": [],
   "source": [
    "import pandas as pd\n",
    "creditrisk=pd.read_csv(\"cs-training.csv\")"
   ]
  },
  {
   "cell_type": "code",
   "execution_count": 76,
   "metadata": {},
   "outputs": [
    {
     "data": {
      "text/html": [
       "<div>\n",
       "<style scoped>\n",
       "    .dataframe tbody tr th:only-of-type {\n",
       "        vertical-align: middle;\n",
       "    }\n",
       "\n",
       "    .dataframe tbody tr th {\n",
       "        vertical-align: top;\n",
       "    }\n",
       "\n",
       "    .dataframe thead th {\n",
       "        text-align: right;\n",
       "    }\n",
       "</style>\n",
       "<table border=\"1\" class=\"dataframe\">\n",
       "  <thead>\n",
       "    <tr style=\"text-align: right;\">\n",
       "      <th></th>\n",
       "      <th>ID</th>\n",
       "      <th>SeriousDlqin2yrs</th>\n",
       "      <th>RevolvingUtilizationOfUnsecuredLines</th>\n",
       "      <th>age</th>\n",
       "      <th>NumberOfTime30-59DaysPastDueNotWorse</th>\n",
       "      <th>DebtRatio</th>\n",
       "      <th>MonthlyIncome</th>\n",
       "      <th>NumberOfOpenCreditLinesAndLoans</th>\n",
       "      <th>NumberOfTimes90DaysLate</th>\n",
       "      <th>NumberRealEstateLoansOrLines</th>\n",
       "      <th>NumberOfTime60-89DaysPastDueNotWorse</th>\n",
       "      <th>NumberOfDependents</th>\n",
       "    </tr>\n",
       "  </thead>\n",
       "  <tbody>\n",
       "    <tr>\n",
       "      <th>0</th>\n",
       "      <td>1</td>\n",
       "      <td>1</td>\n",
       "      <td>0.766127</td>\n",
       "      <td>45</td>\n",
       "      <td>2</td>\n",
       "      <td>0.802982</td>\n",
       "      <td>9120.0</td>\n",
       "      <td>13</td>\n",
       "      <td>0</td>\n",
       "      <td>6</td>\n",
       "      <td>0</td>\n",
       "      <td>2.0</td>\n",
       "    </tr>\n",
       "    <tr>\n",
       "      <th>1</th>\n",
       "      <td>2</td>\n",
       "      <td>0</td>\n",
       "      <td>0.957151</td>\n",
       "      <td>40</td>\n",
       "      <td>0</td>\n",
       "      <td>0.121876</td>\n",
       "      <td>2600.0</td>\n",
       "      <td>4</td>\n",
       "      <td>0</td>\n",
       "      <td>0</td>\n",
       "      <td>0</td>\n",
       "      <td>1.0</td>\n",
       "    </tr>\n",
       "    <tr>\n",
       "      <th>2</th>\n",
       "      <td>3</td>\n",
       "      <td>0</td>\n",
       "      <td>0.658180</td>\n",
       "      <td>38</td>\n",
       "      <td>1</td>\n",
       "      <td>0.085113</td>\n",
       "      <td>3042.0</td>\n",
       "      <td>2</td>\n",
       "      <td>1</td>\n",
       "      <td>0</td>\n",
       "      <td>0</td>\n",
       "      <td>0.0</td>\n",
       "    </tr>\n",
       "    <tr>\n",
       "      <th>3</th>\n",
       "      <td>4</td>\n",
       "      <td>0</td>\n",
       "      <td>0.233810</td>\n",
       "      <td>30</td>\n",
       "      <td>0</td>\n",
       "      <td>0.036050</td>\n",
       "      <td>3300.0</td>\n",
       "      <td>5</td>\n",
       "      <td>0</td>\n",
       "      <td>0</td>\n",
       "      <td>0</td>\n",
       "      <td>0.0</td>\n",
       "    </tr>\n",
       "    <tr>\n",
       "      <th>4</th>\n",
       "      <td>5</td>\n",
       "      <td>0</td>\n",
       "      <td>0.907239</td>\n",
       "      <td>49</td>\n",
       "      <td>1</td>\n",
       "      <td>0.024926</td>\n",
       "      <td>63588.0</td>\n",
       "      <td>7</td>\n",
       "      <td>0</td>\n",
       "      <td>1</td>\n",
       "      <td>0</td>\n",
       "      <td>0.0</td>\n",
       "    </tr>\n",
       "  </tbody>\n",
       "</table>\n",
       "</div>"
      ],
      "text/plain": [
       "   ID  SeriousDlqin2yrs  RevolvingUtilizationOfUnsecuredLines  age  \\\n",
       "0   1                 1                              0.766127   45   \n",
       "1   2                 0                              0.957151   40   \n",
       "2   3                 0                              0.658180   38   \n",
       "3   4                 0                              0.233810   30   \n",
       "4   5                 0                              0.907239   49   \n",
       "\n",
       "   NumberOfTime30-59DaysPastDueNotWorse  DebtRatio  MonthlyIncome  \\\n",
       "0                                     2   0.802982         9120.0   \n",
       "1                                     0   0.121876         2600.0   \n",
       "2                                     1   0.085113         3042.0   \n",
       "3                                     0   0.036050         3300.0   \n",
       "4                                     1   0.024926        63588.0   \n",
       "\n",
       "   NumberOfOpenCreditLinesAndLoans  NumberOfTimes90DaysLate  \\\n",
       "0                               13                        0   \n",
       "1                                4                        0   \n",
       "2                                2                        1   \n",
       "3                                5                        0   \n",
       "4                                7                        0   \n",
       "\n",
       "   NumberRealEstateLoansOrLines  NumberOfTime60-89DaysPastDueNotWorse  \\\n",
       "0                             6                                     0   \n",
       "1                             0                                     0   \n",
       "2                             0                                     0   \n",
       "3                             0                                     0   \n",
       "4                             1                                     0   \n",
       "\n",
       "   NumberOfDependents  \n",
       "0                 2.0  \n",
       "1                 1.0  \n",
       "2                 0.0  \n",
       "3                 0.0  \n",
       "4                 0.0  "
      ]
     },
     "execution_count": 76,
     "metadata": {},
     "output_type": "execute_result"
    }
   ],
   "source": [
    "creditrisk.head()"
   ]
  },
  {
   "cell_type": "code",
   "execution_count": 77,
   "metadata": {},
   "outputs": [
    {
     "data": {
      "text/plain": [
       "Index(['ID', 'SeriousDlqin2yrs', 'RevolvingUtilizationOfUnsecuredLines', 'age',\n",
       "       'NumberOfTime30-59DaysPastDueNotWorse', 'DebtRatio', 'MonthlyIncome',\n",
       "       'NumberOfOpenCreditLinesAndLoans', 'NumberOfTimes90DaysLate',\n",
       "       'NumberRealEstateLoansOrLines', 'NumberOfTime60-89DaysPastDueNotWorse',\n",
       "       'NumberOfDependents'],\n",
       "      dtype='object')"
      ]
     },
     "execution_count": 77,
     "metadata": {},
     "output_type": "execute_result"
    }
   ],
   "source": [
    "creditrisk.columns"
   ]
  },
  {
   "cell_type": "code",
   "execution_count": 78,
   "metadata": {},
   "outputs": [
    {
     "data": {
      "text/plain": [
       "array([1, 0], dtype=int64)"
      ]
     },
     "execution_count": 78,
     "metadata": {},
     "output_type": "execute_result"
    }
   ],
   "source": [
    "#creditrisk.info() \n",
    "creditrisk['SeriousDlqin2yrs'].unique()\n",
    "#classificatoin problem\n",
    "#SeriousDlqin2yrs is dependent variables"
   ]
  },
  {
   "cell_type": "code",
   "execution_count": 79,
   "metadata": {},
   "outputs": [
    {
     "data": {
      "text/plain": [
       "146076"
      ]
     },
     "execution_count": 79,
     "metadata": {},
     "output_type": "execute_result"
    }
   ],
   "source": [
    "creditrisk.isnull().sum()\n",
    "#modifiedDataset=dataset.fillna(\" \")\n",
    "#dataset.fillna(dataset.mean())\n",
    "#modifiedDataset = dataset.dropna()\n",
    "creditrisk.isnull().values\n",
    "#creditrisk.isnull().any(axis=1).sum()\n",
    "MI=creditrisk[creditrisk['NumberOfDependents'].isnull()]\n",
    "modified=creditrisk['NumberOfDependents'].fillna(999)\n",
    "creditrisk['NumberOfDependents']=modified\n",
    "creditrisk.isnull().sum()\n",
    "creditrisk[creditrisk['NumberOfDependents']==999]['MonthlyIncome'].isnull().sum()\n",
    "#creditrisk.columns\n",
    "creditrisk[creditrisk['NumberOfDependents']==999].index\n",
    "creditrisk.drop(creditrisk[creditrisk['NumberOfDependents']==999].index, inplace=True)\n",
    "creditrisk['NumberOfDependents'].size\n",
    "#creditrisk['MonthlyIncome'].isnull().sum()\n",
    "#creditrisk.drop('NumberOfDependents',axis=1)"
   ]
  },
  {
   "cell_type": "code",
   "execution_count": 80,
   "metadata": {},
   "outputs": [],
   "source": [
    "#creditrisk.info()\n",
    "creditrisk.isnull().sum()\n",
    "creditrisk.dropna(inplace=True) "
   ]
  },
  {
   "cell_type": "code",
   "execution_count": 81,
   "metadata": {},
   "outputs": [
    {
     "data": {
      "text/plain": [
       "(120269, 12)"
      ]
     },
     "execution_count": 81,
     "metadata": {},
     "output_type": "execute_result"
    }
   ],
   "source": [
    "creditrisk.isnull().sum()\n",
    "creditrisk.shape"
   ]
  },
  {
   "cell_type": "code",
   "execution_count": 82,
   "metadata": {},
   "outputs": [
    {
     "data": {
      "text/plain": [
       "count    1.202690e+05\n",
       "mean     6.670221e+03\n",
       "std      1.438467e+04\n",
       "min      0.000000e+00\n",
       "25%      3.400000e+03\n",
       "50%      5.400000e+03\n",
       "75%      8.249000e+03\n",
       "max      3.008750e+06\n",
       "Name: MonthlyIncome, dtype: float64"
      ]
     },
     "execution_count": 82,
     "metadata": {},
     "output_type": "execute_result"
    }
   ],
   "source": [
    "creditrisk['MonthlyIncome'].mean()\n",
    "#creditrisk['MonthlyIncome'].isnull()\n",
    "#plt.hist(creditrisk['MonthlyIncome'])\n",
    "creditrisk['MonthlyIncome'].describe()"
   ]
  },
  {
   "cell_type": "code",
   "execution_count": 83,
   "metadata": {},
   "outputs": [
    {
     "data": {
      "text/plain": [
       "array([ 2.,  1.,  0.,  3.,  4.,  5.,  6.,  8.,  7., 20., 10.,  9., 13.])"
      ]
     },
     "execution_count": 83,
     "metadata": {},
     "output_type": "execute_result"
    }
   ],
   "source": [
    "creditrisk['NumberOfDependents'].unique()"
   ]
  },
  {
   "cell_type": "code",
   "execution_count": 84,
   "metadata": {},
   "outputs": [
    {
     "data": {
      "text/plain": [
       "0.0     65456\n",
       "1.0     24379\n",
       "2.0     18110\n",
       "3.0      8745\n",
       "4.0      2658\n",
       "5.0       689\n",
       "6.0       150\n",
       "7.0        49\n",
       "8.0        22\n",
       "10.0        5\n",
       "9.0         4\n",
       "13.0        1\n",
       "20.0        1\n",
       "Name: NumberOfDependents, dtype: int64"
      ]
     },
     "execution_count": 84,
     "metadata": {},
     "output_type": "execute_result"
    }
   ],
   "source": [
    "creditrisk['NumberOfDependents'].describe\n",
    "import matplotlib.pyplot as plt\n",
    "#plt.hist(creditrisk['NumberOfDependents'])\n",
    "#plt.bar(creditrisk['NumberOfDependents'])\n",
    "creditrisk['NumberOfDependents'].value_counts()\n",
    "#creditrisk['MonthlyIncome'].unique()"
   ]
  },
  {
   "cell_type": "code",
   "execution_count": 85,
   "metadata": {},
   "outputs": [
    {
     "data": {
      "image/png": "[encoded data removed]",
      "text/plain": [
       "<Figure size 432x288 with 1 Axes>"
      ]
     },
     "metadata": {},
     "output_type": "display_data"
    }
   ],
   "source": [
    "import seaborn as sns\n",
    "sns.countplot(x='NumberOfDependents',data=creditrisk, palette='hls')\n",
    "plt.show()"
   ]
  },
  {
   "cell_type": "code",
   "execution_count": 86,
   "metadata": {},
   "outputs": [
    {
     "data": {
      "text/html": [
       "<div>\n",
       "<style scoped>\n",
       "    .dataframe tbody tr th:only-of-type {\n",
       "        vertical-align: middle;\n",
       "    }\n",
       "\n",
       "    .dataframe tbody tr th {\n",
       "        vertical-align: top;\n",
       "    }\n",
       "\n",
       "    .dataframe thead th {\n",
       "        text-align: right;\n",
       "    }\n",
       "</style>\n",
       "<table border=\"1\" class=\"dataframe\">\n",
       "  <thead>\n",
       "    <tr style=\"text-align: right;\">\n",
       "      <th></th>\n",
       "      <th>ID</th>\n",
       "      <th>SeriousDlqin2yrs</th>\n",
       "      <th>RevolvingUtilizationOfUnsecuredLines</th>\n",
       "      <th>age</th>\n",
       "      <th>NumberOfTime30-59DaysPastDueNotWorse</th>\n",
       "      <th>DebtRatio</th>\n",
       "      <th>MonthlyIncome</th>\n",
       "      <th>NumberOfOpenCreditLinesAndLoans</th>\n",
       "      <th>NumberOfTimes90DaysLate</th>\n",
       "      <th>NumberRealEstateLoansOrLines</th>\n",
       "      <th>NumberOfTime60-89DaysPastDueNotWorse</th>\n",
       "    </tr>\n",
       "    <tr>\n",
       "      <th>NumberOfDependents</th>\n",
       "      <th></th>\n",
       "      <th></th>\n",
       "      <th></th>\n",
       "      <th></th>\n",
       "      <th></th>\n",
       "      <th></th>\n",
       "      <th></th>\n",
       "      <th></th>\n",
       "      <th></th>\n",
       "      <th></th>\n",
       "      <th></th>\n",
       "    </tr>\n",
       "  </thead>\n",
       "  <tbody>\n",
       "    <tr>\n",
       "      <th>0.0</th>\n",
       "      <td>75047.140094</td>\n",
       "      <td>0.059490</td>\n",
       "      <td>5.419854</td>\n",
       "      <td>53.635114</td>\n",
       "      <td>0.374511</td>\n",
       "      <td>26.242452</td>\n",
       "      <td>5873.411467</td>\n",
       "      <td>8.487656</td>\n",
       "      <td>0.227924</td>\n",
       "      <td>0.922528</td>\n",
       "      <td>0.207956</td>\n",
       "    </tr>\n",
       "    <tr>\n",
       "      <th>1.0</th>\n",
       "      <td>74761.419049</td>\n",
       "      <td>0.074572</td>\n",
       "      <td>5.013580</td>\n",
       "      <td>51.631117</td>\n",
       "      <td>0.368309</td>\n",
       "      <td>14.763965</td>\n",
       "      <td>7205.172361</td>\n",
       "      <td>9.200665</td>\n",
       "      <td>0.186841</td>\n",
       "      <td>1.143525</td>\n",
       "      <td>0.156651</td>\n",
       "    </tr>\n",
       "    <tr>\n",
       "      <th>2.0</th>\n",
       "      <td>75368.220872</td>\n",
       "      <td>0.082054</td>\n",
       "      <td>7.647192</td>\n",
       "      <td>46.202209</td>\n",
       "      <td>0.418112</td>\n",
       "      <td>34.358824</td>\n",
       "      <td>7576.163446</td>\n",
       "      <td>9.028879</td>\n",
       "      <td>0.207786</td>\n",
       "      <td>1.261403</td>\n",
       "      <td>0.185036</td>\n",
       "    </tr>\n",
       "    <tr>\n",
       "      <th>3.0</th>\n",
       "      <td>75061.130932</td>\n",
       "      <td>0.090566</td>\n",
       "      <td>10.102346</td>\n",
       "      <td>45.636135</td>\n",
       "      <td>0.370726</td>\n",
       "      <td>42.293361</td>\n",
       "      <td>8396.601029</td>\n",
       "      <td>8.914580</td>\n",
       "      <td>0.168897</td>\n",
       "      <td>1.272384</td>\n",
       "      <td>0.131504</td>\n",
       "    </tr>\n",
       "    <tr>\n",
       "      <th>4.0</th>\n",
       "      <td>74424.961625</td>\n",
       "      <td>0.104590</td>\n",
       "      <td>2.024736</td>\n",
       "      <td>45.376223</td>\n",
       "      <td>0.451467</td>\n",
       "      <td>32.266914</td>\n",
       "      <td>8691.199398</td>\n",
       "      <td>8.963130</td>\n",
       "      <td>0.209932</td>\n",
       "      <td>1.285553</td>\n",
       "      <td>0.176825</td>\n",
       "    </tr>\n",
       "    <tr>\n",
       "      <th>5.0</th>\n",
       "      <td>74985.937591</td>\n",
       "      <td>0.089985</td>\n",
       "      <td>0.395132</td>\n",
       "      <td>45.943396</td>\n",
       "      <td>0.480406</td>\n",
       "      <td>50.657772</td>\n",
       "      <td>9260.174165</td>\n",
       "      <td>9.023222</td>\n",
       "      <td>0.275762</td>\n",
       "      <td>1.304790</td>\n",
       "      <td>0.245283</td>\n",
       "    </tr>\n",
       "    <tr>\n",
       "      <th>6.0</th>\n",
       "      <td>74925.900000</td>\n",
       "      <td>0.133333</td>\n",
       "      <td>0.424608</td>\n",
       "      <td>47.133333</td>\n",
       "      <td>0.333333</td>\n",
       "      <td>19.108910</td>\n",
       "      <td>8686.493333</td>\n",
       "      <td>8.893333</td>\n",
       "      <td>0.073333</td>\n",
       "      <td>1.200000</td>\n",
       "      <td>0.073333</td>\n",
       "    </tr>\n",
       "    <tr>\n",
       "      <th>7.0</th>\n",
       "      <td>77328.591837</td>\n",
       "      <td>0.102041</td>\n",
       "      <td>0.408293</td>\n",
       "      <td>48.591837</td>\n",
       "      <td>0.387755</td>\n",
       "      <td>42.734145</td>\n",
       "      <td>8934.653061</td>\n",
       "      <td>8.204082</td>\n",
       "      <td>0.142857</td>\n",
       "      <td>1.224490</td>\n",
       "      <td>0.163265</td>\n",
       "    </tr>\n",
       "    <tr>\n",
       "      <th>8.0</th>\n",
       "      <td>80669.090909</td>\n",
       "      <td>0.090909</td>\n",
       "      <td>0.315804</td>\n",
       "      <td>49.727273</td>\n",
       "      <td>0.181818</td>\n",
       "      <td>0.238619</td>\n",
       "      <td>8312.954545</td>\n",
       "      <td>7.636364</td>\n",
       "      <td>0.181818</td>\n",
       "      <td>1.272727</td>\n",
       "      <td>0.000000</td>\n",
       "    </tr>\n",
       "    <tr>\n",
       "      <th>9.0</th>\n",
       "      <td>111995.750000</td>\n",
       "      <td>0.000000</td>\n",
       "      <td>0.414097</td>\n",
       "      <td>42.750000</td>\n",
       "      <td>0.000000</td>\n",
       "      <td>0.352477</td>\n",
       "      <td>8538.750000</td>\n",
       "      <td>8.750000</td>\n",
       "      <td>0.250000</td>\n",
       "      <td>1.000000</td>\n",
       "      <td>0.000000</td>\n",
       "    </tr>\n",
       "    <tr>\n",
       "      <th>10.0</th>\n",
       "      <td>41861.800000</td>\n",
       "      <td>0.000000</td>\n",
       "      <td>0.112469</td>\n",
       "      <td>46.600000</td>\n",
       "      <td>0.400000</td>\n",
       "      <td>724.313041</td>\n",
       "      <td>6879.000000</td>\n",
       "      <td>7.400000</td>\n",
       "      <td>0.000000</td>\n",
       "      <td>0.400000</td>\n",
       "      <td>0.000000</td>\n",
       "    </tr>\n",
       "    <tr>\n",
       "      <th>13.0</th>\n",
       "      <td>128035.000000</td>\n",
       "      <td>0.000000</td>\n",
       "      <td>1.000000</td>\n",
       "      <td>53.000000</td>\n",
       "      <td>1.000000</td>\n",
       "      <td>0.230054</td>\n",
       "      <td>3333.000000</td>\n",
       "      <td>3.000000</td>\n",
       "      <td>1.000000</td>\n",
       "      <td>1.000000</td>\n",
       "      <td>0.000000</td>\n",
       "    </tr>\n",
       "    <tr>\n",
       "      <th>20.0</th>\n",
       "      <td>6300.000000</td>\n",
       "      <td>0.000000</td>\n",
       "      <td>0.226616</td>\n",
       "      <td>40.000000</td>\n",
       "      <td>1.000000</td>\n",
       "      <td>0.576539</td>\n",
       "      <td>6316.000000</td>\n",
       "      <td>11.000000</td>\n",
       "      <td>2.000000</td>\n",
       "      <td>1.000000</td>\n",
       "      <td>0.000000</td>\n",
       "    </tr>\n",
       "  </tbody>\n",
       "</table>\n",
       "</div>"
      ],
      "text/plain": [
       "                               ID  SeriousDlqin2yrs  \\\n",
       "NumberOfDependents                                    \n",
       "0.0                  75047.140094          0.059490   \n",
       "1.0                  74761.419049          0.074572   \n",
       "2.0                  75368.220872          0.082054   \n",
       "3.0                  75061.130932          0.090566   \n",
       "4.0                  74424.961625          0.104590   \n",
       "5.0                  74985.937591          0.089985   \n",
       "6.0                  74925.900000          0.133333   \n",
       "7.0                  77328.591837          0.102041   \n",
       "8.0                  80669.090909          0.090909   \n",
       "9.0                 111995.750000          0.000000   \n",
       "10.0                 41861.800000          0.000000   \n",
       "13.0                128035.000000          0.000000   \n",
       "20.0                  6300.000000          0.000000   \n",
       "\n",
       "                    RevolvingUtilizationOfUnsecuredLines        age  \\\n",
       "NumberOfDependents                                                    \n",
       "0.0                                             5.419854  53.635114   \n",
       "1.0                                             5.013580  51.631117   \n",
       "2.0                                             7.647192  46.202209   \n",
       "3.0                                            10.102346  45.636135   \n",
       "4.0                                             2.024736  45.376223   \n",
       "5.0                                             0.395132  45.943396   \n",
       "6.0                                             0.424608  47.133333   \n",
       "7.0                                             0.408293  48.591837   \n",
       "8.0                                             0.315804  49.727273   \n",
       "9.0                                             0.414097  42.750000   \n",
       "10.0                                            0.112469  46.600000   \n",
       "13.0                                            1.000000  53.000000   \n",
       "20.0                                            0.226616  40.000000   \n",
       "\n",
       "                    NumberOfTime30-59DaysPastDueNotWorse   DebtRatio  \\\n",
       "NumberOfDependents                                                     \n",
       "0.0                                             0.374511   26.242452   \n",
       "1.0                                             0.368309   14.763965   \n",
       "2.0                                             0.418112   34.358824   \n",
       "3.0                                             0.370726   42.293361   \n",
       "4.0                                             0.451467   32.266914   \n",
       "5.0                                             0.480406   50.657772   \n",
       "6.0                                             0.333333   19.108910   \n",
       "7.0                                             0.387755   42.734145   \n",
       "8.0                                             0.181818    0.238619   \n",
       "9.0                                             0.000000    0.352477   \n",
       "10.0                                            0.400000  724.313041   \n",
       "13.0                                            1.000000    0.230054   \n",
       "20.0                                            1.000000    0.576539   \n",
       "\n",
       "                    MonthlyIncome  NumberOfOpenCreditLinesAndLoans  \\\n",
       "NumberOfDependents                                                   \n",
       "0.0                   5873.411467                         8.487656   \n",
       "1.0                   7205.172361                         9.200665   \n",
       "2.0                   7576.163446                         9.028879   \n",
       "3.0                   8396.601029                         8.914580   \n",
       "4.0                   8691.199398                         8.963130   \n",
       "5.0                   9260.174165                         9.023222   \n",
       "6.0                   8686.493333                         8.893333   \n",
       "7.0                   8934.653061                         8.204082   \n",
       "8.0                   8312.954545                         7.636364   \n",
       "9.0                   8538.750000                         8.750000   \n",
       "10.0                  6879.000000                         7.400000   \n",
       "13.0                  3333.000000                         3.000000   \n",
       "20.0                  6316.000000                        11.000000   \n",
       "\n",
       "                    NumberOfTimes90DaysLate  NumberRealEstateLoansOrLines  \\\n",
       "NumberOfDependents                                                          \n",
       "0.0                                0.227924                      0.922528   \n",
       "1.0                                0.186841                      1.143525   \n",
       "2.0                                0.207786                      1.261403   \n",
       "3.0                                0.168897                      1.272384   \n",
       "4.0                                0.209932                      1.285553   \n",
       "5.0                                0.275762                      1.304790   \n",
       "6.0                                0.073333                      1.200000   \n",
       "7.0                                0.142857                      1.224490   \n",
       "8.0                                0.181818                      1.272727   \n",
       "9.0                                0.250000                      1.000000   \n",
       "10.0                               0.000000                      0.400000   \n",
       "13.0                               1.000000                      1.000000   \n",
       "20.0                               2.000000                      1.000000   \n",
       "\n",
       "                    NumberOfTime60-89DaysPastDueNotWorse  \n",
       "NumberOfDependents                                        \n",
       "0.0                                             0.207956  \n",
       "1.0                                             0.156651  \n",
       "2.0                                             0.185036  \n",
       "3.0                                             0.131504  \n",
       "4.0                                             0.176825  \n",
       "5.0                                             0.245283  \n",
       "6.0                                             0.073333  \n",
       "7.0                                             0.163265  \n",
       "8.0                                             0.000000  \n",
       "9.0                                             0.000000  \n",
       "10.0                                            0.000000  \n",
       "13.0                                            0.000000  \n",
       "20.0                                            0.000000  "
      ]
     },
     "execution_count": 86,
     "metadata": {},
     "output_type": "execute_result"
    }
   ],
   "source": [
    "creditrisk.groupby(\"NumberOfDependents\").mean()\n",
    "#creditrisk.groupby(\"SeriousDlqin2yrs\").mean()"
   ]
  },
  {
   "cell_type": "code",
   "execution_count": 87,
   "metadata": {},
   "outputs": [
    {
     "data": {
      "text/plain": [
       "<matplotlib.axes._subplots.AxesSubplot at 0x1c240abec88>"
      ]
     },
     "execution_count": 87,
     "metadata": {},
     "output_type": "execute_result"
    },
    {
     "data": {
      "image/png": "[encoded data removed]",
      "text/plain": [
       "<Figure size 432x288 with 1 Axes>"
      ]
     },
     "metadata": {},
     "output_type": "display_data"
    }
   ],
   "source": [
    "%matplotlib inline\n",
    "pd.crosstab(creditrisk.SeriousDlqin2yrs,creditrisk.NumberOfDependents).plot(kind='bar')"
   ]
  },
  {
   "cell_type": "code",
   "execution_count": 88,
   "metadata": {},
   "outputs": [
    {
     "data": {
      "image/png": "[encoded data removed]",
      "text/plain": [
       "<Figure size 432x288 with 1 Axes>"
      ]
     },
     "metadata": {},
     "output_type": "display_data"
    }
   ],
   "source": [
    "plt.boxplot(creditrisk.RevolvingUtilizationOfUnsecuredLines)\n",
    "creditrisk.loc[creditrisk[\"RevolvingUtilizationOfUnsecuredLines\"]>20000,'RevolvingUtilizationOfUnsecuredLines'] = 20000"
   ]
  },
  {
   "cell_type": "code",
   "execution_count": 89,
   "metadata": {},
   "outputs": [
    {
     "data": {
      "text/html": [
       "<div>\n",
       "<style scoped>\n",
       "    .dataframe tbody tr th:only-of-type {\n",
       "        vertical-align: middle;\n",
       "    }\n",
       "\n",
       "    .dataframe tbody tr th {\n",
       "        vertical-align: top;\n",
       "    }\n",
       "\n",
       "    .dataframe thead th {\n",
       "        text-align: right;\n",
       "    }\n",
       "</style>\n",
       "<table border=\"1\" class=\"dataframe\">\n",
       "  <thead>\n",
       "    <tr style=\"text-align: right;\">\n",
       "      <th></th>\n",
       "      <th>ID</th>\n",
       "      <th>SeriousDlqin2yrs</th>\n",
       "      <th>RevolvingUtilizationOfUnsecuredLines</th>\n",
       "      <th>age</th>\n",
       "      <th>NumberOfTime30-59DaysPastDueNotWorse</th>\n",
       "      <th>DebtRatio</th>\n",
       "      <th>MonthlyIncome</th>\n",
       "      <th>NumberOfOpenCreditLinesAndLoans</th>\n",
       "      <th>NumberOfTimes90DaysLate</th>\n",
       "      <th>NumberRealEstateLoansOrLines</th>\n",
       "      <th>NumberOfTime60-89DaysPastDueNotWorse</th>\n",
       "      <th>NumberOfDependents</th>\n",
       "    </tr>\n",
       "  </thead>\n",
       "  <tbody>\n",
       "  </tbody>\n",
       "</table>\n",
       "</div>"
      ],
      "text/plain": [
       "Empty DataFrame\n",
       "Columns: [ID, SeriousDlqin2yrs, RevolvingUtilizationOfUnsecuredLines, age, NumberOfTime30-59DaysPastDueNotWorse, DebtRatio, MonthlyIncome, NumberOfOpenCreditLinesAndLoans, NumberOfTimes90DaysLate, NumberRealEstateLoansOrLines, NumberOfTime60-89DaysPastDueNotWorse, NumberOfDependents]\n",
       "Index: []"
      ]
     },
     "execution_count": 89,
     "metadata": {},
     "output_type": "execute_result"
    }
   ],
   "source": [
    "creditrisk[creditrisk[\"RevolvingUtilizationOfUnsecuredLines\"]>20000]"
   ]
  },
  {
   "cell_type": "code",
   "execution_count": 90,
   "metadata": {},
   "outputs": [
    {
     "data": {
      "image/png": "[encoded data removed]",
      "text/plain": [
       "<Figure size 432x288 with 1 Axes>"
      ]
     },
     "metadata": {},
     "output_type": "display_data"
    }
   ],
   "source": [
    "plt.boxplot(creditrisk.age)\n",
    "creditrisk[creditrisk[\"age\"]<10].index\n",
    "creditrisk.drop(creditrisk[creditrisk[\"age\"]<10].index, inplace=True)"
   ]
  },
  {
   "cell_type": "code",
   "execution_count": 91,
   "metadata": {},
   "outputs": [
    {
     "data": {
      "text/html": [
       "<div>\n",
       "<style scoped>\n",
       "    .dataframe tbody tr th:only-of-type {\n",
       "        vertical-align: middle;\n",
       "    }\n",
       "\n",
       "    .dataframe tbody tr th {\n",
       "        vertical-align: top;\n",
       "    }\n",
       "\n",
       "    .dataframe thead th {\n",
       "        text-align: right;\n",
       "    }\n",
       "</style>\n",
       "<table border=\"1\" class=\"dataframe\">\n",
       "  <thead>\n",
       "    <tr style=\"text-align: right;\">\n",
       "      <th></th>\n",
       "      <th>ID</th>\n",
       "      <th>SeriousDlqin2yrs</th>\n",
       "      <th>RevolvingUtilizationOfUnsecuredLines</th>\n",
       "      <th>age</th>\n",
       "      <th>NumberOfTime30-59DaysPastDueNotWorse</th>\n",
       "      <th>DebtRatio</th>\n",
       "      <th>MonthlyIncome</th>\n",
       "      <th>NumberOfOpenCreditLinesAndLoans</th>\n",
       "      <th>NumberOfTimes90DaysLate</th>\n",
       "      <th>NumberRealEstateLoansOrLines</th>\n",
       "      <th>NumberOfTime60-89DaysPastDueNotWorse</th>\n",
       "      <th>NumberOfDependents</th>\n",
       "    </tr>\n",
       "  </thead>\n",
       "  <tbody>\n",
       "  </tbody>\n",
       "</table>\n",
       "</div>"
      ],
      "text/plain": [
       "Empty DataFrame\n",
       "Columns: [ID, SeriousDlqin2yrs, RevolvingUtilizationOfUnsecuredLines, age, NumberOfTime30-59DaysPastDueNotWorse, DebtRatio, MonthlyIncome, NumberOfOpenCreditLinesAndLoans, NumberOfTimes90DaysLate, NumberRealEstateLoansOrLines, NumberOfTime60-89DaysPastDueNotWorse, NumberOfDependents]\n",
       "Index: []"
      ]
     },
     "execution_count": 91,
     "metadata": {},
     "output_type": "execute_result"
    },
    {
     "data": {
      "image/png": "[encoded data removed]",
      "text/plain": [
       "<Figure size 432x288 with 1 Axes>"
      ]
     },
     "metadata": {},
     "output_type": "display_data"
    }
   ],
   "source": [
    "plt.boxplot(creditrisk.age)\n",
    "creditrisk[creditrisk[\"age\"]<10]"
   ]
  },
  {
   "cell_type": "code",
   "execution_count": 92,
   "metadata": {},
   "outputs": [
    {
     "data": {
      "text/plain": [
       "Index(['ID', 'SeriousDlqin2yrs', 'RevolvingUtilizationOfUnsecuredLines', 'age',\n",
       "       'NumberOfTime30-59DaysPastDueNotWorse', 'DebtRatio', 'MonthlyIncome',\n",
       "       'NumberOfOpenCreditLinesAndLoans', 'NumberOfTimes90DaysLate',\n",
       "       'NumberRealEstateLoansOrLines', 'NumberOfTime60-89DaysPastDueNotWorse',\n",
       "       'NumberOfDependents'],\n",
       "      dtype='object')"
      ]
     },
     "execution_count": 92,
     "metadata": {},
     "output_type": "execute_result"
    },
    {
     "data": {
      "image/png": "[encoded data removed]",
      "text/plain": [
       "<Figure size 432x288 with 1 Axes>"
      ]
     },
     "metadata": {},
     "output_type": "display_data"
    }
   ],
   "source": [
    "plt.boxplot(creditrisk['NumberOfTime30-59DaysPastDueNotWorse'])\n",
    "creditrisk[creditrisk['NumberOfTime30-59DaysPastDueNotWorse']>50]\n",
    "creditrisk.columns\n",
    "#plt.boxplot(creditrisk['DebtRatio'])\n",
    "#creditrisk[creditrisk['DebtRatio']>40000]\n",
    "#plt.hist(creditrisk['MonthlyIncome'])"
   ]
  },
  {
   "cell_type": "code",
   "execution_count": 93,
   "metadata": {},
   "outputs": [],
   "source": [
    "creditrisk.columns\n",
    "creditrisk1=creditrisk.drop(\"ID\", axis=1)"
   ]
  },
  {
   "cell_type": "code",
   "execution_count": 94,
   "metadata": {},
   "outputs": [
    {
     "data": {
      "text/plain": [
       "Index(['SeriousDlqin2yrs', 'RevolvingUtilizationOfUnsecuredLines', 'age',\n",
       "       'NumberOfTime30-59DaysPastDueNotWorse', 'DebtRatio', 'MonthlyIncome',\n",
       "       'NumberOfOpenCreditLinesAndLoans', 'NumberOfTimes90DaysLate',\n",
       "       'NumberRealEstateLoansOrLines', 'NumberOfTime60-89DaysPastDueNotWorse',\n",
       "       'NumberOfDependents'],\n",
       "      dtype='object')"
      ]
     },
     "execution_count": 94,
     "metadata": {},
     "output_type": "execute_result"
    }
   ],
   "source": [
    "creditrisk1.columns"
   ]
  },
  {
   "cell_type": "code",
   "execution_count": null,
   "metadata": {},
   "outputs": [],
   "source": []
  },
  {
   "cell_type": "code",
   "execution_count": 42,
   "metadata": {},
   "outputs": [
    {
     "name": "stderr",
     "output_type": "stream",
     "text": [
      "C:\\Users\\Poori\\Anaconda3\\lib\\site-packages\\sklearn\\linear_model\\_logistic.py:939: ConvergenceWarning: lbfgs failed to converge (status=1):\n",
      "STOP: TOTAL NO. of ITERATIONS REACHED LIMIT.\n",
      "\n",
      "Increase the number of iterations (max_iter) or scale the data as shown in:\n",
      "    https://scikit-learn.org/stable/modules/preprocessing.html.\n",
      "Please also refer to the documentation for alternative solver options:\n",
      "    https://scikit-learn.org/stable/modules/linear_model.html#logistic-regression\n",
      "  extra_warning_msg=_LOGISTIC_SOLVER_CONVERGENCE_MSG)\n"
     ]
    },
    {
     "data": {
      "text/plain": [
       "LogisticRegression(C=1.0, class_weight=None, dual=False, fit_intercept=True,\n",
       "                   intercept_scaling=1, l1_ratio=None, max_iter=100,\n",
       "                   multi_class='auto', n_jobs=None, penalty='l2',\n",
       "                   random_state=None, solver='lbfgs', tol=0.0001, verbose=0,\n",
       "                   warm_start=False)"
      ]
     },
     "execution_count": 42,
     "metadata": {},
     "output_type": "execute_result"
    }
   ],
   "source": [
    "X = creditrisk1.drop(\"SeriousDlqin2yrs\", axis=1)\n",
    "y = creditrisk1['SeriousDlqin2yrs']\n",
    "\n",
    "from sklearn.model_selection import train_test_split\n",
    "X_train, X_test, y_train, y_test = train_test_split(X, y,random_state = 12,test_size=0.25)\n",
    "\n",
    "\n",
    "from sklearn.linear_model import LogisticRegression\n",
    "regressor = LogisticRegression()\n",
    "regressor.fit(X_train, y_train)"
   ]
  },
  {
   "cell_type": "code",
   "execution_count": 45,
   "metadata": {},
   "outputs": [],
   "source": [
    "from sklearn.model_selection import train_test_split, cross_val_score\n",
    "from sklearn.metrics import accuracy_score, classification_report, precision_score, recall_score \n",
    "from sklearn.metrics import confusion_matrix, precision_recall_curve, roc_curve, auc, log_loss\n",
    "\n",
    "\n",
    "y_pred = regressor.predict(X_test)\n",
    "y_pred_proba = regressor.predict_proba(X_test)[:, 1]\n",
    "[fpr, tpr, thr] = roc_curve(y_test, y_pred_proba)\n",
    "print('Train/Test split results:')\n",
    "print(regressor.__class__.__name__+\" accuracy is %2.3f\" % accuracy_score(y_test, y_pred))\n",
    "print(regressor.__class__.__name__+\" log_loss is %2.3f\" % log_loss(y_test, y_pred_proba))\n",
    "print(regressor.__class__.__name__+\" auc is %2.3f\" % auc(fpr, tpr))"
   ]
  },
  {
   "cell_type": "code",
   "execution_count": 135,
   "metadata": {},
   "outputs": [
    {
     "data": {
      "text/html": [
       "<div>\n",
       "<style scoped>\n",
       "    .dataframe tbody tr th:only-of-type {\n",
       "        vertical-align: middle;\n",
       "    }\n",
       "\n",
       "    .dataframe tbody tr th {\n",
       "        vertical-align: top;\n",
       "    }\n",
       "\n",
       "    .dataframe thead th {\n",
       "        text-align: right;\n",
       "    }\n",
       "</style>\n",
       "<table border=\"1\" class=\"dataframe\">\n",
       "  <thead>\n",
       "    <tr style=\"text-align: right;\">\n",
       "      <th></th>\n",
       "      <th>RevolvingUtilizationOfUnsecuredLines</th>\n",
       "      <th>age</th>\n",
       "      <th>NumberOfTime30-59DaysPastDueNotWorse</th>\n",
       "      <th>DebtRatio</th>\n",
       "      <th>MonthlyIncome</th>\n",
       "      <th>NumberOfOpenCreditLinesAndLoans</th>\n",
       "      <th>NumberOfTimes90DaysLate</th>\n",
       "      <th>NumberRealEstateLoansOrLines</th>\n",
       "      <th>NumberOfTime60-89DaysPastDueNotWorse</th>\n",
       "      <th>NumberOfDependents</th>\n",
       "    </tr>\n",
       "  </thead>\n",
       "  <tbody>\n",
       "    <tr>\n",
       "      <th>0</th>\n",
       "      <td>0.000038</td>\n",
       "      <td>0.292683</td>\n",
       "      <td>0.020408</td>\n",
       "      <td>1.314070e-05</td>\n",
       "      <td>0.003031</td>\n",
       "      <td>0.224138</td>\n",
       "      <td>0.000000</td>\n",
       "      <td>0.111111</td>\n",
       "      <td>0.0</td>\n",
       "      <td>0.10</td>\n",
       "    </tr>\n",
       "    <tr>\n",
       "      <th>1</th>\n",
       "      <td>0.000048</td>\n",
       "      <td>0.231707</td>\n",
       "      <td>0.000000</td>\n",
       "      <td>1.994488e-06</td>\n",
       "      <td>0.000864</td>\n",
       "      <td>0.068966</td>\n",
       "      <td>0.000000</td>\n",
       "      <td>0.000000</td>\n",
       "      <td>0.0</td>\n",
       "      <td>0.05</td>\n",
       "    </tr>\n",
       "    <tr>\n",
       "      <th>2</th>\n",
       "      <td>0.000033</td>\n",
       "      <td>0.207317</td>\n",
       "      <td>0.010204</td>\n",
       "      <td>1.392869e-06</td>\n",
       "      <td>0.001011</td>\n",
       "      <td>0.034483</td>\n",
       "      <td>0.010204</td>\n",
       "      <td>0.000000</td>\n",
       "      <td>0.0</td>\n",
       "      <td>0.00</td>\n",
       "    </tr>\n",
       "    <tr>\n",
       "      <th>3</th>\n",
       "      <td>0.000012</td>\n",
       "      <td>0.109756</td>\n",
       "      <td>0.000000</td>\n",
       "      <td>5.899484e-07</td>\n",
       "      <td>0.001097</td>\n",
       "      <td>0.086207</td>\n",
       "      <td>0.000000</td>\n",
       "      <td>0.000000</td>\n",
       "      <td>0.0</td>\n",
       "      <td>0.00</td>\n",
       "    </tr>\n",
       "    <tr>\n",
       "      <th>4</th>\n",
       "      <td>0.000045</td>\n",
       "      <td>0.341463</td>\n",
       "      <td>0.010204</td>\n",
       "      <td>4.079058e-07</td>\n",
       "      <td>0.021134</td>\n",
       "      <td>0.120690</td>\n",
       "      <td>0.000000</td>\n",
       "      <td>0.018519</td>\n",
       "      <td>0.0</td>\n",
       "      <td>0.00</td>\n",
       "    </tr>\n",
       "  </tbody>\n",
       "</table>\n",
       "</div>"
      ],
      "text/plain": [
       "   RevolvingUtilizationOfUnsecuredLines       age  \\\n",
       "0                              0.000038  0.292683   \n",
       "1                              0.000048  0.231707   \n",
       "2                              0.000033  0.207317   \n",
       "3                              0.000012  0.109756   \n",
       "4                              0.000045  0.341463   \n",
       "\n",
       "   NumberOfTime30-59DaysPastDueNotWorse     DebtRatio  MonthlyIncome  \\\n",
       "0                              0.020408  1.314070e-05       0.003031   \n",
       "1                              0.000000  1.994488e-06       0.000864   \n",
       "2                              0.010204  1.392869e-06       0.001011   \n",
       "3                              0.000000  5.899484e-07       0.001097   \n",
       "4                              0.010204  4.079058e-07       0.021134   \n",
       "\n",
       "   NumberOfOpenCreditLinesAndLoans  NumberOfTimes90DaysLate  \\\n",
       "0                         0.224138                 0.000000   \n",
       "1                         0.068966                 0.000000   \n",
       "2                         0.034483                 0.010204   \n",
       "3                         0.086207                 0.000000   \n",
       "4                         0.120690                 0.000000   \n",
       "\n",
       "   NumberRealEstateLoansOrLines  NumberOfTime60-89DaysPastDueNotWorse  \\\n",
       "0                      0.111111                                   0.0   \n",
       "1                      0.000000                                   0.0   \n",
       "2                      0.000000                                   0.0   \n",
       "3                      0.000000                                   0.0   \n",
       "4                      0.018519                                   0.0   \n",
       "\n",
       "   NumberOfDependents  \n",
       "0                0.10  \n",
       "1                0.05  \n",
       "2                0.00  \n",
       "3                0.00  \n",
       "4                0.00  "
      ]
     },
     "execution_count": 135,
     "metadata": {},
     "output_type": "execute_result"
    }
   ],
   "source": [
    "#this is used for normalization, if there are outliers then min max scaler is not effective. Minmax scaler is sensitive to outliers\n",
    "X = creditrisk1.drop(\"SeriousDlqin2yrs\", axis=1)\n",
    "y = creditrisk1['SeriousDlqin2yrs']\n",
    "\n",
    "from sklearn.preprocessing import MinMaxScaler\n",
    "scaler = MinMaxScaler()\n",
    "creditrisk_scale = scaler.fit_transform(X)\n",
    "creditrisk_scale=pd.DataFrame(creditrisk_scale)\n",
    "creditrisk_scale.columns=X.columns\n",
    "creditrisk_scale.head()"
   ]
  },
  {
   "cell_type": "code",
   "execution_count": 58,
   "metadata": {},
   "outputs": [],
   "source": [
    "creditrisk_scale.shape\n",
    "#creditrisk_scale.head()"
   ]
  },
  {
   "cell_type": "code",
   "execution_count": 137,
   "metadata": {
    "scrolled": true
   },
   "outputs": [
    {
     "data": {
      "text/plain": [
       "LogisticRegression(C=1.0, class_weight=None, dual=False, fit_intercept=True,\n",
       "                   intercept_scaling=1, l1_ratio=None, max_iter=100,\n",
       "                   multi_class='auto', n_jobs=None, penalty='l2',\n",
       "                   random_state=None, solver='lbfgs', tol=0.0001, verbose=0,\n",
       "                   warm_start=False)"
      ]
     },
     "execution_count": 137,
     "metadata": {},
     "output_type": "execute_result"
    }
   ],
   "source": [
    "#X = creditrisk_scale.drop(\"SeriousDlqin2yrs\", axis=1)\n",
    "#y = creditrisk_scale['SeriousDlqin2yrs']\n",
    "\n",
    "X=creditrisk_scale\n",
    "\n",
    "from sklearn.model_selection import train_test_split\n",
    "X_train, X_test, y_train, y_test = train_test_split(X, y,random_state = 12,test_size=0.25)\n",
    "\n",
    "\n",
    "from sklearn.linear_model import LogisticRegression\n",
    "regressor = LogisticRegression()\n",
    "regressor.fit(X_train, y_train)"
   ]
  },
  {
   "cell_type": "code",
   "execution_count": 138,
   "metadata": {},
   "outputs": [
    {
     "name": "stdout",
     "output_type": "stream",
     "text": [
      "Train/Test split results:\n",
      "LogisticRegression accuracy is 0.931\n",
      "LogisticRegression log_loss is 0.241\n",
      "LogisticRegression auc is 0.659\n"
     ]
    }
   ],
   "source": [
    "from sklearn.model_selection import train_test_split, cross_val_score\n",
    "from sklearn.metrics import accuracy_score, classification_report, precision_score, recall_score \n",
    "from sklearn.metrics import confusion_matrix, precision_recall_curve, roc_curve, auc, log_loss\n",
    "\n",
    "\n",
    "y_pred = regressor.predict(X_test)\n",
    "y_pred_proba = regressor.predict_proba(X_test)[:, 1]\n",
    "[fpr, tpr, thr] = roc_curve(y_test, y_pred_proba)\n",
    "print('Train/Test split results:')\n",
    "print(regressor.__class__.__name__+\" accuracy is %2.3f\" % accuracy_score(y_test, y_pred))\n",
    "print(regressor.__class__.__name__+\" log_loss is %2.3f\" % log_loss(y_test, y_pred_proba))\n",
    "print(regressor.__class__.__name__+\" auc is %2.3f\" % auc(fpr, tpr))"
   ]
  },
  {
   "cell_type": "code",
   "execution_count": 103,
   "metadata": {},
   "outputs": [],
   "source": [
    "#creditrisk.index.max\n",
    "#creditrisk.shape"
   ]
  },
  {
   "cell_type": "code",
   "execution_count": 122,
   "metadata": {},
   "outputs": [
    {
     "data": {
      "text/html": [
       "<div>\n",
       "<style scoped>\n",
       "    .dataframe tbody tr th:only-of-type {\n",
       "        vertical-align: middle;\n",
       "    }\n",
       "\n",
       "    .dataframe tbody tr th {\n",
       "        vertical-align: top;\n",
       "    }\n",
       "\n",
       "    .dataframe thead th {\n",
       "        text-align: right;\n",
       "    }\n",
       "</style>\n",
       "<table border=\"1\" class=\"dataframe\">\n",
       "  <thead>\n",
       "    <tr style=\"text-align: right;\">\n",
       "      <th></th>\n",
       "      <th>RevolvingUtilizationOfUnsecuredLines</th>\n",
       "      <th>age</th>\n",
       "      <th>NumberOfTime30-59DaysPastDueNotWorse</th>\n",
       "      <th>DebtRatio</th>\n",
       "      <th>MonthlyIncome</th>\n",
       "      <th>NumberOfOpenCreditLinesAndLoans</th>\n",
       "      <th>NumberOfTimes90DaysLate</th>\n",
       "      <th>NumberRealEstateLoansOrLines</th>\n",
       "      <th>NumberOfTime60-89DaysPastDueNotWorse</th>\n",
       "      <th>NumberOfDependents</th>\n",
       "    </tr>\n",
       "  </thead>\n",
       "  <tbody>\n",
       "    <tr>\n",
       "      <th>0</th>\n",
       "      <td>-0.022946</td>\n",
       "      <td>-0.436036</td>\n",
       "      <td>0.462454</td>\n",
       "      <td>-0.060776</td>\n",
       "      <td>0.170304</td>\n",
       "      <td>0.819958</td>\n",
       "      <td>-0.061157</td>\n",
       "      <td>4.303155</td>\n",
       "      <td>-0.054477</td>\n",
       "      <td>0.999818</td>\n",
       "    </tr>\n",
       "    <tr>\n",
       "      <th>1</th>\n",
       "      <td>-0.022029</td>\n",
       "      <td>-0.782634</td>\n",
       "      <td>-0.109099</td>\n",
       "      <td>-0.062380</td>\n",
       "      <td>-0.282956</td>\n",
       "      <td>-0.919902</td>\n",
       "      <td>-0.061157</td>\n",
       "      <td>-0.917549</td>\n",
       "      <td>-0.054477</td>\n",
       "      <td>0.129031</td>\n",
       "    </tr>\n",
       "    <tr>\n",
       "      <th>2</th>\n",
       "      <td>-0.023464</td>\n",
       "      <td>-0.921273</td>\n",
       "      <td>0.176678</td>\n",
       "      <td>-0.062467</td>\n",
       "      <td>-0.252229</td>\n",
       "      <td>-1.306538</td>\n",
       "      <td>0.227420</td>\n",
       "      <td>-0.917549</td>\n",
       "      <td>-0.054477</td>\n",
       "      <td>-0.741756</td>\n",
       "    </tr>\n",
       "    <tr>\n",
       "      <th>3</th>\n",
       "      <td>-0.025500</td>\n",
       "      <td>-1.475830</td>\n",
       "      <td>-0.109099</td>\n",
       "      <td>-0.062583</td>\n",
       "      <td>-0.234293</td>\n",
       "      <td>-0.726585</td>\n",
       "      <td>-0.061157</td>\n",
       "      <td>-0.917549</td>\n",
       "      <td>-0.054477</td>\n",
       "      <td>-0.741756</td>\n",
       "    </tr>\n",
       "    <tr>\n",
       "      <th>4</th>\n",
       "      <td>-0.022269</td>\n",
       "      <td>-0.158757</td>\n",
       "      <td>0.176678</td>\n",
       "      <td>-0.062609</td>\n",
       "      <td>3.956834</td>\n",
       "      <td>-0.339949</td>\n",
       "      <td>-0.061157</td>\n",
       "      <td>-0.047431</td>\n",
       "      <td>-0.054477</td>\n",
       "      <td>-0.741756</td>\n",
       "    </tr>\n",
       "  </tbody>\n",
       "</table>\n",
       "</div>"
      ],
      "text/plain": [
       "   RevolvingUtilizationOfUnsecuredLines       age  \\\n",
       "0                             -0.022946 -0.436036   \n",
       "1                             -0.022029 -0.782634   \n",
       "2                             -0.023464 -0.921273   \n",
       "3                             -0.025500 -1.475830   \n",
       "4                             -0.022269 -0.158757   \n",
       "\n",
       "   NumberOfTime30-59DaysPastDueNotWorse  DebtRatio  MonthlyIncome  \\\n",
       "0                              0.462454  -0.060776       0.170304   \n",
       "1                             -0.109099  -0.062380      -0.282956   \n",
       "2                              0.176678  -0.062467      -0.252229   \n",
       "3                             -0.109099  -0.062583      -0.234293   \n",
       "4                              0.176678  -0.062609       3.956834   \n",
       "\n",
       "   NumberOfOpenCreditLinesAndLoans  NumberOfTimes90DaysLate  \\\n",
       "0                         0.819958                -0.061157   \n",
       "1                        -0.919902                -0.061157   \n",
       "2                        -1.306538                 0.227420   \n",
       "3                        -0.726585                -0.061157   \n",
       "4                        -0.339949                -0.061157   \n",
       "\n",
       "   NumberRealEstateLoansOrLines  NumberOfTime60-89DaysPastDueNotWorse  \\\n",
       "0                      4.303155                             -0.054477   \n",
       "1                     -0.917549                             -0.054477   \n",
       "2                     -0.917549                             -0.054477   \n",
       "3                     -0.917549                             -0.054477   \n",
       "4                     -0.047431                             -0.054477   \n",
       "\n",
       "   NumberOfDependents  \n",
       "0            0.999818  \n",
       "1            0.129031  \n",
       "2           -0.741756  \n",
       "3           -0.741756  \n",
       "4           -0.741756  "
      ]
     },
     "execution_count": 122,
     "metadata": {},
     "output_type": "execute_result"
    }
   ],
   "source": [
    "X = creditrisk1.drop(\"SeriousDlqin2yrs\", axis=1)\n",
    "y = creditrisk1['SeriousDlqin2yrs']\n",
    "\n",
    "from sklearn.preprocessing import StandardScaler\n",
    "scaler = StandardScaler()\n",
    "creditrisk_scale=scaler.fit_transform(X)\n",
    "creditrisk_scale=pd.DataFrame(creditrisk_scale)\n",
    "creditrisk_scale.columns=X.columns\n",
    "creditrisk_scale.head()"
   ]
  },
  {
   "cell_type": "code",
   "execution_count": 123,
   "metadata": {},
   "outputs": [
    {
     "data": {
      "text/plain": [
       "LogisticRegression(C=1.0, class_weight=None, dual=False, fit_intercept=True,\n",
       "                   intercept_scaling=1, l1_ratio=None, max_iter=100,\n",
       "                   multi_class='auto', n_jobs=None, penalty='l2',\n",
       "                   random_state=None, solver='lbfgs', tol=0.0001, verbose=0,\n",
       "                   warm_start=False)"
      ]
     },
     "execution_count": 123,
     "metadata": {},
     "output_type": "execute_result"
    }
   ],
   "source": [
    "#X = creditrisk_scale.drop(\"SeriousDlqin2yrs\", axis=1)\n",
    "#y = creditrisk_scale['SeriousDlqin2yrs']\n",
    "X=creditrisk_scale\n",
    "\n",
    "from sklearn.model_selection import train_test_split\n",
    "X_train, X_test, y_train, y_test = train_test_split(X, y,random_state = 12,test_size=0.25)\n",
    "from sklearn.linear_model import LogisticRegression\n",
    "regressor = LogisticRegression()\n",
    "regressor.fit(X_train, y_train)"
   ]
  },
  {
   "cell_type": "code",
   "execution_count": 124,
   "metadata": {},
   "outputs": [
    {
     "name": "stdout",
     "output_type": "stream",
     "text": [
      "Train/Test split results:\n",
      "LogisticRegression accuracy is 0.932\n",
      "LogisticRegression log_loss is 0.231\n",
      "LogisticRegression auc is 0.691\n"
     ]
    }
   ],
   "source": [
    "from sklearn.model_selection import train_test_split, cross_val_score\n",
    "from sklearn.metrics import accuracy_score, classification_report, precision_score, recall_score \n",
    "from sklearn.metrics import confusion_matrix, precision_recall_curve, roc_curve, auc, log_loss\n",
    "\n",
    "\n",
    "y_pred = regressor.predict(X_test)\n",
    "y_pred_proba = regressor.predict_proba(X_test)[:, 1]\n",
    "[fpr, tpr, thr] = roc_curve(y_test, y_pred_proba)\n",
    "print('Train/Test split results:')\n",
    "print(regressor.__class__.__name__+\" accuracy is %2.3f\" % accuracy_score(y_test, y_pred))\n",
    "print(regressor.__class__.__name__+\" log_loss is %2.3f\" % log_loss(y_test, y_pred_proba))\n",
    "print(regressor.__class__.__name__+\" auc is %2.3f\" % auc(fpr, tpr))"
   ]
  },
  {
   "cell_type": "code",
   "execution_count": 125,
   "metadata": {},
   "outputs": [
    {
     "data": {
      "text/html": [
       "<div>\n",
       "<style scoped>\n",
       "    .dataframe tbody tr th:only-of-type {\n",
       "        vertical-align: middle;\n",
       "    }\n",
       "\n",
       "    .dataframe tbody tr th {\n",
       "        vertical-align: top;\n",
       "    }\n",
       "\n",
       "    .dataframe thead th {\n",
       "        text-align: right;\n",
       "    }\n",
       "</style>\n",
       "<table border=\"1\" class=\"dataframe\">\n",
       "  <thead>\n",
       "    <tr style=\"text-align: right;\">\n",
       "      <th></th>\n",
       "      <th>RevolvingUtilizationOfUnsecuredLines</th>\n",
       "      <th>age</th>\n",
       "      <th>NumberOfTime30-59DaysPastDueNotWorse</th>\n",
       "      <th>DebtRatio</th>\n",
       "      <th>MonthlyIncome</th>\n",
       "      <th>NumberOfOpenCreditLinesAndLoans</th>\n",
       "      <th>NumberOfTimes90DaysLate</th>\n",
       "      <th>NumberRealEstateLoansOrLines</th>\n",
       "      <th>NumberOfTime60-89DaysPastDueNotWorse</th>\n",
       "      <th>NumberOfDependents</th>\n",
       "    </tr>\n",
       "  </thead>\n",
       "  <tbody>\n",
       "    <tr>\n",
       "      <th>0</th>\n",
       "      <td>0.000038</td>\n",
       "      <td>0.436893</td>\n",
       "      <td>0.020408</td>\n",
       "      <td>1.314070e-05</td>\n",
       "      <td>0.003031</td>\n",
       "      <td>0.224138</td>\n",
       "      <td>0.000000</td>\n",
       "      <td>0.111111</td>\n",
       "      <td>0.0</td>\n",
       "      <td>0.10</td>\n",
       "    </tr>\n",
       "    <tr>\n",
       "      <th>1</th>\n",
       "      <td>0.000048</td>\n",
       "      <td>0.388350</td>\n",
       "      <td>0.000000</td>\n",
       "      <td>1.994488e-06</td>\n",
       "      <td>0.000864</td>\n",
       "      <td>0.068966</td>\n",
       "      <td>0.000000</td>\n",
       "      <td>0.000000</td>\n",
       "      <td>0.0</td>\n",
       "      <td>0.05</td>\n",
       "    </tr>\n",
       "    <tr>\n",
       "      <th>2</th>\n",
       "      <td>0.000033</td>\n",
       "      <td>0.368932</td>\n",
       "      <td>0.010204</td>\n",
       "      <td>1.392869e-06</td>\n",
       "      <td>0.001011</td>\n",
       "      <td>0.034483</td>\n",
       "      <td>0.010204</td>\n",
       "      <td>0.000000</td>\n",
       "      <td>0.0</td>\n",
       "      <td>0.00</td>\n",
       "    </tr>\n",
       "    <tr>\n",
       "      <th>3</th>\n",
       "      <td>0.000012</td>\n",
       "      <td>0.291262</td>\n",
       "      <td>0.000000</td>\n",
       "      <td>5.899484e-07</td>\n",
       "      <td>0.001097</td>\n",
       "      <td>0.086207</td>\n",
       "      <td>0.000000</td>\n",
       "      <td>0.000000</td>\n",
       "      <td>0.0</td>\n",
       "      <td>0.00</td>\n",
       "    </tr>\n",
       "    <tr>\n",
       "      <th>4</th>\n",
       "      <td>0.000045</td>\n",
       "      <td>0.475728</td>\n",
       "      <td>0.010204</td>\n",
       "      <td>4.079058e-07</td>\n",
       "      <td>0.021134</td>\n",
       "      <td>0.120690</td>\n",
       "      <td>0.000000</td>\n",
       "      <td>0.018519</td>\n",
       "      <td>0.0</td>\n",
       "      <td>0.00</td>\n",
       "    </tr>\n",
       "  </tbody>\n",
       "</table>\n",
       "</div>"
      ],
      "text/plain": [
       "   RevolvingUtilizationOfUnsecuredLines       age  \\\n",
       "0                              0.000038  0.436893   \n",
       "1                              0.000048  0.388350   \n",
       "2                              0.000033  0.368932   \n",
       "3                              0.000012  0.291262   \n",
       "4                              0.000045  0.475728   \n",
       "\n",
       "   NumberOfTime30-59DaysPastDueNotWorse     DebtRatio  MonthlyIncome  \\\n",
       "0                              0.020408  1.314070e-05       0.003031   \n",
       "1                              0.000000  1.994488e-06       0.000864   \n",
       "2                              0.010204  1.392869e-06       0.001011   \n",
       "3                              0.000000  5.899484e-07       0.001097   \n",
       "4                              0.010204  4.079058e-07       0.021134   \n",
       "\n",
       "   NumberOfOpenCreditLinesAndLoans  NumberOfTimes90DaysLate  \\\n",
       "0                         0.224138                 0.000000   \n",
       "1                         0.068966                 0.000000   \n",
       "2                         0.034483                 0.010204   \n",
       "3                         0.086207                 0.000000   \n",
       "4                         0.120690                 0.000000   \n",
       "\n",
       "   NumberRealEstateLoansOrLines  NumberOfTime60-89DaysPastDueNotWorse  \\\n",
       "0                      0.111111                                   0.0   \n",
       "1                      0.000000                                   0.0   \n",
       "2                      0.000000                                   0.0   \n",
       "3                      0.000000                                   0.0   \n",
       "4                      0.018519                                   0.0   \n",
       "\n",
       "   NumberOfDependents  \n",
       "0                0.10  \n",
       "1                0.05  \n",
       "2                0.00  \n",
       "3                0.00  \n",
       "4                0.00  "
      ]
     },
     "execution_count": 125,
     "metadata": {},
     "output_type": "execute_result"
    }
   ],
   "source": [
    "X = creditrisk1.drop(\"SeriousDlqin2yrs\", axis=1)\n",
    "y = creditrisk1['SeriousDlqin2yrs']\n",
    "\n",
    "from sklearn.preprocessing import MaxAbsScaler\n",
    "scaler = MaxAbsScaler()\n",
    "creditrisk_scale=scaler.fit_transform(X)\n",
    "creditrisk_scale=pd.DataFrame(creditrisk_scale)\n",
    "creditrisk_scale.columns=X.columns\n",
    "creditrisk_scale.head()"
   ]
  },
  {
   "cell_type": "code",
   "execution_count": 126,
   "metadata": {},
   "outputs": [
    {
     "data": {
      "text/plain": [
       "LogisticRegression(C=1.0, class_weight=None, dual=False, fit_intercept=True,\n",
       "                   intercept_scaling=1, l1_ratio=None, max_iter=100,\n",
       "                   multi_class='auto', n_jobs=None, penalty='l2',\n",
       "                   random_state=None, solver='lbfgs', tol=0.0001, verbose=0,\n",
       "                   warm_start=False)"
      ]
     },
     "execution_count": 126,
     "metadata": {},
     "output_type": "execute_result"
    }
   ],
   "source": [
    "X=creditrisk_scale\n",
    "\n",
    "from sklearn.model_selection import train_test_split\n",
    "X_train, X_test, y_train, y_test = train_test_split(X, y,random_state = 12,test_size=0.25)\n",
    "from sklearn.linear_model import LogisticRegression\n",
    "regressor = LogisticRegression()\n",
    "regressor.fit(X_train, y_train)"
   ]
  },
  {
   "cell_type": "code",
   "execution_count": 127,
   "metadata": {},
   "outputs": [
    {
     "name": "stdout",
     "output_type": "stream",
     "text": [
      "Train/Test split results:\n",
      "LogisticRegression accuracy is 0.931\n",
      "LogisticRegression log_loss is 0.241\n",
      "LogisticRegression auc is 0.659\n"
     ]
    }
   ],
   "source": [
    "from sklearn.model_selection import train_test_split, cross_val_score\n",
    "from sklearn.metrics import accuracy_score, classification_report, precision_score, recall_score \n",
    "from sklearn.metrics import confusion_matrix, precision_recall_curve, roc_curve, auc, log_loss\n",
    "\n",
    "\n",
    "y_pred = regressor.predict(X_test)\n",
    "y_pred_proba = regressor.predict_proba(X_test)[:, 1]\n",
    "[fpr, tpr, thr] = roc_curve(y_test, y_pred_proba)\n",
    "print('Train/Test split results:')\n",
    "print(regressor.__class__.__name__+\" accuracy is %2.3f\" % accuracy_score(y_test, y_pred))\n",
    "print(regressor.__class__.__name__+\" log_loss is %2.3f\" % log_loss(y_test, y_pred_proba))\n",
    "print(regressor.__class__.__name__+\" auc is %2.3f\" % auc(fpr, tpr))"
   ]
  },
  {
   "cell_type": "code",
   "execution_count": 131,
   "metadata": {},
   "outputs": [
    {
     "data": {
      "text/html": [
       "<div>\n",
       "<style scoped>\n",
       "    .dataframe tbody tr th:only-of-type {\n",
       "        vertical-align: middle;\n",
       "    }\n",
       "\n",
       "    .dataframe tbody tr th {\n",
       "        vertical-align: top;\n",
       "    }\n",
       "\n",
       "    .dataframe thead th {\n",
       "        text-align: right;\n",
       "    }\n",
       "</style>\n",
       "<table border=\"1\" class=\"dataframe\">\n",
       "  <thead>\n",
       "    <tr style=\"text-align: right;\">\n",
       "      <th></th>\n",
       "      <th>RevolvingUtilizationOfUnsecuredLines</th>\n",
       "      <th>age</th>\n",
       "      <th>NumberOfTime30-59DaysPastDueNotWorse</th>\n",
       "      <th>DebtRatio</th>\n",
       "      <th>MonthlyIncome</th>\n",
       "      <th>NumberOfOpenCreditLinesAndLoans</th>\n",
       "      <th>NumberOfTimes90DaysLate</th>\n",
       "      <th>NumberRealEstateLoansOrLines</th>\n",
       "      <th>NumberOfTime60-89DaysPastDueNotWorse</th>\n",
       "      <th>NumberOfDependents</th>\n",
       "    </tr>\n",
       "  </thead>\n",
       "  <tbody>\n",
       "    <tr>\n",
       "      <th>0</th>\n",
       "      <td>0.588846</td>\n",
       "      <td>-2.000000</td>\n",
       "      <td>2.0</td>\n",
       "      <td>0.506961</td>\n",
       "      <td>3720.0</td>\n",
       "      <td>5.0</td>\n",
       "      <td>0.0</td>\n",
       "      <td>5.0</td>\n",
       "      <td>0.0</td>\n",
       "      <td>2.0</td>\n",
       "    </tr>\n",
       "    <tr>\n",
       "      <th>1</th>\n",
       "      <td>0.779871</td>\n",
       "      <td>-3.666667</td>\n",
       "      <td>0.0</td>\n",
       "      <td>-0.174145</td>\n",
       "      <td>-2800.0</td>\n",
       "      <td>-4.0</td>\n",
       "      <td>0.0</td>\n",
       "      <td>-1.0</td>\n",
       "      <td>0.0</td>\n",
       "      <td>1.0</td>\n",
       "    </tr>\n",
       "    <tr>\n",
       "      <th>2</th>\n",
       "      <td>0.480900</td>\n",
       "      <td>-4.333333</td>\n",
       "      <td>1.0</td>\n",
       "      <td>-0.210908</td>\n",
       "      <td>-2358.0</td>\n",
       "      <td>-6.0</td>\n",
       "      <td>1.0</td>\n",
       "      <td>-1.0</td>\n",
       "      <td>0.0</td>\n",
       "      <td>0.0</td>\n",
       "    </tr>\n",
       "    <tr>\n",
       "      <th>3</th>\n",
       "      <td>0.056530</td>\n",
       "      <td>-7.000000</td>\n",
       "      <td>0.0</td>\n",
       "      <td>-0.259972</td>\n",
       "      <td>-2100.0</td>\n",
       "      <td>-3.0</td>\n",
       "      <td>0.0</td>\n",
       "      <td>-1.0</td>\n",
       "      <td>0.0</td>\n",
       "      <td>0.0</td>\n",
       "    </tr>\n",
       "    <tr>\n",
       "      <th>4</th>\n",
       "      <td>0.729959</td>\n",
       "      <td>-0.666667</td>\n",
       "      <td>1.0</td>\n",
       "      <td>-0.271096</td>\n",
       "      <td>58188.0</td>\n",
       "      <td>-1.0</td>\n",
       "      <td>0.0</td>\n",
       "      <td>0.0</td>\n",
       "      <td>0.0</td>\n",
       "      <td>0.0</td>\n",
       "    </tr>\n",
       "  </tbody>\n",
       "</table>\n",
       "</div>"
      ],
      "text/plain": [
       "   RevolvingUtilizationOfUnsecuredLines       age  \\\n",
       "0                              0.588846 -2.000000   \n",
       "1                              0.779871 -3.666667   \n",
       "2                              0.480900 -4.333333   \n",
       "3                              0.056530 -7.000000   \n",
       "4                              0.729959 -0.666667   \n",
       "\n",
       "   NumberOfTime30-59DaysPastDueNotWorse  DebtRatio  MonthlyIncome  \\\n",
       "0                                   2.0   0.506961         3720.0   \n",
       "1                                   0.0  -0.174145        -2800.0   \n",
       "2                                   1.0  -0.210908        -2358.0   \n",
       "3                                   0.0  -0.259972        -2100.0   \n",
       "4                                   1.0  -0.271096        58188.0   \n",
       "\n",
       "   NumberOfOpenCreditLinesAndLoans  NumberOfTimes90DaysLate  \\\n",
       "0                              5.0                      0.0   \n",
       "1                             -4.0                      0.0   \n",
       "2                             -6.0                      1.0   \n",
       "3                             -3.0                      0.0   \n",
       "4                             -1.0                      0.0   \n",
       "\n",
       "   NumberRealEstateLoansOrLines  NumberOfTime60-89DaysPastDueNotWorse  \\\n",
       "0                           5.0                                   0.0   \n",
       "1                          -1.0                                   0.0   \n",
       "2                          -1.0                                   0.0   \n",
       "3                          -1.0                                   0.0   \n",
       "4                           0.0                                   0.0   \n",
       "\n",
       "   NumberOfDependents  \n",
       "0                 2.0  \n",
       "1                 1.0  \n",
       "2                 0.0  \n",
       "3                 0.0  \n",
       "4                 0.0  "
      ]
     },
     "execution_count": 131,
     "metadata": {},
     "output_type": "execute_result"
    }
   ],
   "source": [
    "X = creditrisk1.drop(\"SeriousDlqin2yrs\", axis=1)\n",
    "y = creditrisk1['SeriousDlqin2yrs']\n",
    "\n",
    "from sklearn.preprocessing import RobustScaler\n",
    "scaler = RobustScaler(quantile_range = (0.1,0.9))\n",
    "creditrisk_scale=scaler.fit_transform(X)\n",
    "creditrisk_scale=pd.DataFrame(creditrisk_scale)\n",
    "creditrisk_scale.columns=X.columns\n",
    "creditrisk_scale.head()"
   ]
  },
  {
   "cell_type": "code",
   "execution_count": 132,
   "metadata": {},
   "outputs": [
    {
     "name": "stdout",
     "output_type": "stream",
     "text": [
      "Train/Test split results:\n",
      "LogisticRegression accuracy is 0.849\n",
      "LogisticRegression log_loss is 0.368\n",
      "LogisticRegression auc is 0.586\n"
     ]
    },
    {
     "name": "stderr",
     "output_type": "stream",
     "text": [
      "C:\\Users\\Poori\\Anaconda3\\lib\\site-packages\\sklearn\\linear_model\\_logistic.py:939: ConvergenceWarning: lbfgs failed to converge (status=1):\n",
      "STOP: TOTAL NO. of ITERATIONS REACHED LIMIT.\n",
      "\n",
      "Increase the number of iterations (max_iter) or scale the data as shown in:\n",
      "    https://scikit-learn.org/stable/modules/preprocessing.html.\n",
      "Please also refer to the documentation for alternative solver options:\n",
      "    https://scikit-learn.org/stable/modules/linear_model.html#logistic-regression\n",
      "  extra_warning_msg=_LOGISTIC_SOLVER_CONVERGENCE_MSG)\n"
     ]
    }
   ],
   "source": [
    "X=creditrisk_scale\n",
    "\n",
    "from sklearn.model_selection import train_test_split\n",
    "X_train, X_test, y_train, y_test = train_test_split(X, y,random_state = 12,test_size=0.25)\n",
    "from sklearn.linear_model import LogisticRegression\n",
    "regressor = LogisticRegression()\n",
    "regressor.fit(X_train, y_train)\n",
    "\n",
    "\n",
    "from sklearn.model_selection import train_test_split, cross_val_score\n",
    "from sklearn.metrics import accuracy_score, classification_report, precision_score, recall_score \n",
    "from sklearn.metrics import confusion_matrix, precision_recall_curve, roc_curve, auc, log_loss\n",
    "\n",
    "\n",
    "y_pred = regressor.predict(X_test)\n",
    "y_pred_proba = regressor.predict_proba(X_test)[:, 1]\n",
    "[fpr, tpr, thr] = roc_curve(y_test, y_pred_proba)\n",
    "print('Train/Test split results:')\n",
    "print(regressor.__class__.__name__+\" accuracy is %2.3f\" % accuracy_score(y_test, y_pred))\n",
    "print(regressor.__class__.__name__+\" log_loss is %2.3f\" % log_loss(y_test, y_pred_proba))\n",
    "print(regressor.__class__.__name__+\" auc is %2.3f\" % auc(fpr, tpr))"
   ]
  },
  {
   "cell_type": "code",
   "execution_count": 139,
   "metadata": {},
   "outputs": [
    {
     "data": {
      "text/html": [
       "<div>\n",
       "<style scoped>\n",
       "    .dataframe tbody tr th:only-of-type {\n",
       "        vertical-align: middle;\n",
       "    }\n",
       "\n",
       "    .dataframe tbody tr th {\n",
       "        vertical-align: top;\n",
       "    }\n",
       "\n",
       "    .dataframe thead th {\n",
       "        text-align: right;\n",
       "    }\n",
       "</style>\n",
       "<table border=\"1\" class=\"dataframe\">\n",
       "  <thead>\n",
       "    <tr style=\"text-align: right;\">\n",
       "      <th></th>\n",
       "      <th>RevolvingUtilizationOfUnsecuredLines</th>\n",
       "      <th>age</th>\n",
       "      <th>NumberOfTime30-59DaysPastDueNotWorse</th>\n",
       "      <th>DebtRatio</th>\n",
       "      <th>MonthlyIncome</th>\n",
       "      <th>NumberOfOpenCreditLinesAndLoans</th>\n",
       "      <th>NumberOfTimes90DaysLate</th>\n",
       "      <th>NumberRealEstateLoansOrLines</th>\n",
       "      <th>NumberOfTime60-89DaysPastDueNotWorse</th>\n",
       "      <th>NumberOfDependents</th>\n",
       "    </tr>\n",
       "  </thead>\n",
       "  <tbody>\n",
       "    <tr>\n",
       "      <th>0</th>\n",
       "      <td>0.000084</td>\n",
       "      <td>0.004934</td>\n",
       "      <td>0.000219</td>\n",
       "      <td>8.804510e-05</td>\n",
       "      <td>0.999987</td>\n",
       "      <td>0.001425</td>\n",
       "      <td>0.000000</td>\n",
       "      <td>0.000658</td>\n",
       "      <td>0.0</td>\n",
       "      <td>0.000219</td>\n",
       "    </tr>\n",
       "    <tr>\n",
       "      <th>1</th>\n",
       "      <td>0.000368</td>\n",
       "      <td>0.015383</td>\n",
       "      <td>0.000000</td>\n",
       "      <td>4.686985e-05</td>\n",
       "      <td>0.999880</td>\n",
       "      <td>0.001538</td>\n",
       "      <td>0.000000</td>\n",
       "      <td>0.000000</td>\n",
       "      <td>0.0</td>\n",
       "      <td>0.000385</td>\n",
       "    </tr>\n",
       "    <tr>\n",
       "      <th>2</th>\n",
       "      <td>0.000216</td>\n",
       "      <td>0.012491</td>\n",
       "      <td>0.000329</td>\n",
       "      <td>2.797722e-05</td>\n",
       "      <td>0.999922</td>\n",
       "      <td>0.000657</td>\n",
       "      <td>0.000329</td>\n",
       "      <td>0.000000</td>\n",
       "      <td>0.0</td>\n",
       "      <td>0.000000</td>\n",
       "    </tr>\n",
       "    <tr>\n",
       "      <th>3</th>\n",
       "      <td>0.000071</td>\n",
       "      <td>0.009091</td>\n",
       "      <td>0.000000</td>\n",
       "      <td>1.092368e-05</td>\n",
       "      <td>0.999958</td>\n",
       "      <td>0.001515</td>\n",
       "      <td>0.000000</td>\n",
       "      <td>0.000000</td>\n",
       "      <td>0.0</td>\n",
       "      <td>0.000000</td>\n",
       "    </tr>\n",
       "    <tr>\n",
       "      <th>4</th>\n",
       "      <td>0.000014</td>\n",
       "      <td>0.000771</td>\n",
       "      <td>0.000016</td>\n",
       "      <td>3.919873e-07</td>\n",
       "      <td>1.000000</td>\n",
       "      <td>0.000110</td>\n",
       "      <td>0.000000</td>\n",
       "      <td>0.000016</td>\n",
       "      <td>0.0</td>\n",
       "      <td>0.000000</td>\n",
       "    </tr>\n",
       "  </tbody>\n",
       "</table>\n",
       "</div>"
      ],
      "text/plain": [
       "   RevolvingUtilizationOfUnsecuredLines       age  \\\n",
       "0                              0.000084  0.004934   \n",
       "1                              0.000368  0.015383   \n",
       "2                              0.000216  0.012491   \n",
       "3                              0.000071  0.009091   \n",
       "4                              0.000014  0.000771   \n",
       "\n",
       "   NumberOfTime30-59DaysPastDueNotWorse     DebtRatio  MonthlyIncome  \\\n",
       "0                              0.000219  8.804510e-05       0.999987   \n",
       "1                              0.000000  4.686985e-05       0.999880   \n",
       "2                              0.000329  2.797722e-05       0.999922   \n",
       "3                              0.000000  1.092368e-05       0.999958   \n",
       "4                              0.000016  3.919873e-07       1.000000   \n",
       "\n",
       "   NumberOfOpenCreditLinesAndLoans  NumberOfTimes90DaysLate  \\\n",
       "0                         0.001425                 0.000000   \n",
       "1                         0.001538                 0.000000   \n",
       "2                         0.000657                 0.000329   \n",
       "3                         0.001515                 0.000000   \n",
       "4                         0.000110                 0.000000   \n",
       "\n",
       "   NumberRealEstateLoansOrLines  NumberOfTime60-89DaysPastDueNotWorse  \\\n",
       "0                      0.000658                                   0.0   \n",
       "1                      0.000000                                   0.0   \n",
       "2                      0.000000                                   0.0   \n",
       "3                      0.000000                                   0.0   \n",
       "4                      0.000016                                   0.0   \n",
       "\n",
       "   NumberOfDependents  \n",
       "0            0.000219  \n",
       "1            0.000385  \n",
       "2            0.000000  \n",
       "3            0.000000  \n",
       "4            0.000000  "
      ]
     },
     "execution_count": 139,
     "metadata": {},
     "output_type": "execute_result"
    }
   ],
   "source": [
    "X = creditrisk1.drop(\"SeriousDlqin2yrs\", axis=1)\n",
    "y = creditrisk1['SeriousDlqin2yrs']\n",
    "\n",
    "from sklearn.preprocessing import Normalizer\n",
    "scaler = Normalizer()\n",
    "creditrisk_scale=scaler.fit_transform(X)\n",
    "creditrisk_scale=pd.DataFrame(creditrisk_scale)\n",
    "creditrisk_scale.columns=X.columns\n",
    "creditrisk_scale.head()"
   ]
  },
  {
   "cell_type": "code",
   "execution_count": 140,
   "metadata": {},
   "outputs": [
    {
     "name": "stdout",
     "output_type": "stream",
     "text": [
      "Train/Test split results:\n",
      "LogisticRegression accuracy is 0.931\n",
      "LogisticRegression log_loss is 0.250\n",
      "LogisticRegression auc is 0.694\n"
     ]
    }
   ],
   "source": [
    "X=creditrisk_scale\n",
    "\n",
    "from sklearn.model_selection import train_test_split\n",
    "X_train, X_test, y_train, y_test = train_test_split(X, y,random_state = 12,test_size=0.25)\n",
    "from sklearn.linear_model import LogisticRegression\n",
    "regressor = LogisticRegression()\n",
    "regressor.fit(X_train, y_train)\n",
    "\n",
    "\n",
    "from sklearn.model_selection import train_test_split, cross_val_score\n",
    "from sklearn.metrics import accuracy_score, classification_report, precision_score, recall_score \n",
    "from sklearn.metrics import confusion_matrix, precision_recall_curve, roc_curve, auc, log_loss\n",
    "\n",
    "\n",
    "y_pred = regressor.predict(X_test)\n",
    "y_pred_proba = regressor.predict_proba(X_test)[:, 1]\n",
    "[fpr, tpr, thr] = roc_curve(y_test, y_pred_proba)\n",
    "print('Train/Test split results:')\n",
    "print(regressor.__class__.__name__+\" accuracy is %2.3f\" % accuracy_score(y_test, y_pred))\n",
    "print(regressor.__class__.__name__+\" log_loss is %2.3f\" % log_loss(y_test, y_pred_proba))\n",
    "print(regressor.__class__.__name__+\" auc is %2.3f\" % auc(fpr, tpr))"
   ]
  },
  {
   "cell_type": "code",
   "execution_count": 72,
   "metadata": {},
   "outputs": [],
   "source": [
    "#fig, axes = plt.subplots(3, 4, figsize = (15,15))\n",
    "#axes = axes.flatten()\n",
    "\n",
    "#for i in range(0,len(creditrisk.columns)-1):\n",
    "#    sns.boxplot(x=\"SeriousDlqin2yrs\", y=creditrisk.iloc[:,i], data=creditrisk, orient='v', ax=axes[i])\n",
    "\n",
    "#plt.tight_layout()\n",
    "#plt.show()\n"
   ]
  },
  {
   "cell_type": "code",
   "execution_count": null,
   "metadata": {},
   "outputs": [],
   "source": [
    "#one hot encoding\n",
    "# dummies creation\n",
    "# normalization "
   ]
  },
  {
   "cell_type": "code",
   "execution_count": null,
   "metadata": {},
   "outputs": [],
   "source": []
  },
  {
   "cell_type": "code",
   "execution_count": null,
   "metadata": {},
   "outputs": [],
   "source": []
  },
  {
   "cell_type": "code",
   "execution_count": null,
   "metadata": {},
   "outputs": [],
   "source": []
  },
  {
   "cell_type": "code",
   "execution_count": null,
   "metadata": {},
   "outputs": [],
   "source": []
  },
  {
   "cell_type": "code",
   "execution_count": null,
   "metadata": {},
   "outputs": [],
   "source": []
  }
 ],
 "metadata": {
  "kernelspec": {
   "display_name": "Python 3",
   "language": "python",
   "name": "python3"
  },
  "language_info": {
   "codemirror_mode": {
    "name": "ipython",
    "version": 3
   },
   "file_extension": ".py",
   "mimetype": "text/x-python",
   "name": "python",
   "nbconvert_exporter": "python",
   "pygments_lexer": "ipython3",
   "version": "3.6.4"
  }
 },
 "nbformat": 4,
 "nbformat_minor": 2
}
